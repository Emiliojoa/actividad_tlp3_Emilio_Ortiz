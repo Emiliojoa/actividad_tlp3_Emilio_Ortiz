{
 "cells": [
  {
   "cell_type": "markdown",
   "id": "498731c6",
   "metadata": {},
   "source": [
    "# Actividad - Trabajando con Series de Pandas.\n",
    "## Criterios de evaluación.\n",
    "\n",
    "* Se deben utilizar nombres de variables descriptivos y claros (Utilizar la nomeclatura correspondiente para los nombres de variables).\n",
    "* Comentarios claros y concisos que expliquen el propósito de cada sección del código.\n",
    "* Utilizar mensajes de commit **descriptivos**. (Puedes utilizar la extension CONVENTIONAL COMMIT de VS-CODE). \n",
    "* Entrega en tiempo y forma.\n",
    "* Todo el código desarrollado debe ser subido a un repositorio en GitHub (el nombre del repositorio de seguir la siguiente estructura: actividad_tlp3_nombre_apellido).\n",
    "* Para resolver las actividades se debe insertar casillas de codigo entre cada actividad del cuaderno de Jupyter\n",
    "\n",
    "### ¡Importante!\n",
    "**El incumplimiento de los criterios de evaluación restará puntos en la nota final del práctico!**"
   ]
  },
  {
   "cell_type": "markdown",
   "id": "b361a7b6",
   "metadata": {},
   "source": [
    "### **Actividad 1:** \n",
    "\n",
    "Crear Series desde diferentes estructuras.\n",
    "* Crea una Series con los números del 1 al 5\n",
    "* Crea una Series a partir de un diccionario con nombres de países como claves y sus capitales como valores."
   ]
  },
  {
   "cell_type": "code",
   "execution_count": 1,
   "id": "296daae9",
   "metadata": {},
   "outputs": [],
   "source": [
    "import pandas as pd\n",
    "import random"
   ]
  },
  {
   "cell_type": "code",
   "execution_count": null,
   "id": "26009294",
   "metadata": {},
   "outputs": [
    {
     "name": "stdout",
     "output_type": "stream",
     "text": [
      "0    1\n",
      "1    2\n",
      "2    3\n",
      "3    4\n",
      "4    5\n",
      "dtype: int64\n"
     ]
    },
    {
     "data": {
      "text/plain": [
       "Santiago        NaN\n",
       "Buenos Aires    NaN\n",
       "Bogota          NaN\n",
       "Asuncion        NaN\n",
       "Brasilia        NaN\n",
       "dtype: object"
      ]
     },
     "execution_count": 15,
     "metadata": {},
     "output_type": "execute_result"
    }
   ],
   "source": [
    "num=pd.Series([1,2,3,4,5])\n",
    "print(num)\n",
    "\n",
    "paises_capitales={\"argentina\",\n",
    "                \"brasil\",\n",
    "                \"chile\",\n",
    "                \"colombia\",\n",
    "                \"paraguay\"}\n",
    "\n",
    "capitales={\n",
    "    \"Buenos Aires\",\n",
    "    \"Brasilia\",\n",
    "    \"Santiago\",\n",
    "    \"Bogota\",\n",
    "    \"Asuncion\"\n",
    "}\n",
    "\n",
    "new_location=pd.Series(paises_capitales, index=capitales)\n",
    "new_location\n",
    "\n",
    "# todo:"
   ]
  },
  {
   "cell_type": "markdown",
   "id": "0c239195",
   "metadata": {},
   "source": [
    "### **Actividad 2:** \n",
    "Acceso y selección de elementos.\n",
    "* Usa una Series con tareas (que haceres cotidianos) de una semana\n",
    "* Accede a diferentes elementos a elección.\n",
    "* Cambia los valores de los dias pares.\n"
   ]
  },
  {
   "cell_type": "code",
   "execution_count": 10,
   "id": "d1c9f719",
   "metadata": {},
   "outputs": [
    {
     "name": "stdout",
     "output_type": "stream",
     "text": [
      "lunes                     correr\n",
      "martes         andar en bicileta\n",
      "miercoles    estar en las clases\n",
      "jueves                  estudiar\n",
      "viernes          salir a caminar\n",
      "sabado                   repasar\n",
      "domingo                descansar\n",
      "dtype: object\n"
     ]
    },
    {
     "ename": "KeyError",
     "evalue": "\"['martes' 'jueves' 'sabado'] not in index\"",
     "output_type": "error",
     "traceback": [
      "\u001b[31m---------------------------------------------------------------------------\u001b[39m",
      "\u001b[31mInvalidIndexError\u001b[39m                         Traceback (most recent call last)",
      "\u001b[36mFile \u001b[39m\u001b[32mc:\\Users\\IFP-2025\\AppData\\Local\\Programs\\Python\\Python312\\Lib\\site-packages\\pandas\\core\\series.py:1298\u001b[39m, in \u001b[36mSeries.__setitem__\u001b[39m\u001b[34m(self, key, value)\u001b[39m\n\u001b[32m   1297\u001b[39m \u001b[38;5;28;01mtry\u001b[39;00m:\n\u001b[32m-> \u001b[39m\u001b[32m1298\u001b[39m     \u001b[38;5;28;43mself\u001b[39;49m\u001b[43m.\u001b[49m\u001b[43m_set_with_engine\u001b[49m\u001b[43m(\u001b[49m\u001b[43mkey\u001b[49m\u001b[43m,\u001b[49m\u001b[43m \u001b[49m\u001b[43mvalue\u001b[49m\u001b[43m,\u001b[49m\u001b[43m \u001b[49m\u001b[43mwarn\u001b[49m\u001b[43m=\u001b[49m\u001b[43mwarn\u001b[49m\u001b[43m)\u001b[49m\n\u001b[32m   1299\u001b[39m \u001b[38;5;28;01mexcept\u001b[39;00m \u001b[38;5;167;01mKeyError\u001b[39;00m:\n\u001b[32m   1300\u001b[39m     \u001b[38;5;66;03m# We have a scalar (or for MultiIndex or object-dtype, scalar-like)\u001b[39;00m\n\u001b[32m   1301\u001b[39m     \u001b[38;5;66;03m#  key that is not present in self.index.\u001b[39;00m\n",
      "\u001b[36mFile \u001b[39m\u001b[32mc:\\Users\\IFP-2025\\AppData\\Local\\Programs\\Python\\Python312\\Lib\\site-packages\\pandas\\core\\series.py:1370\u001b[39m, in \u001b[36mSeries._set_with_engine\u001b[39m\u001b[34m(self, key, value, warn)\u001b[39m\n\u001b[32m   1369\u001b[39m \u001b[38;5;28;01mdef\u001b[39;00m\u001b[38;5;250m \u001b[39m\u001b[34m_set_with_engine\u001b[39m(\u001b[38;5;28mself\u001b[39m, key, value, warn: \u001b[38;5;28mbool\u001b[39m = \u001b[38;5;28;01mTrue\u001b[39;00m) -> \u001b[38;5;28;01mNone\u001b[39;00m:\n\u001b[32m-> \u001b[39m\u001b[32m1370\u001b[39m     loc = \u001b[38;5;28;43mself\u001b[39;49m\u001b[43m.\u001b[49m\u001b[43mindex\u001b[49m\u001b[43m.\u001b[49m\u001b[43mget_loc\u001b[49m\u001b[43m(\u001b[49m\u001b[43mkey\u001b[49m\u001b[43m)\u001b[49m\n\u001b[32m   1372\u001b[39m     \u001b[38;5;66;03m# this is equivalent to self._values[key] = value\u001b[39;00m\n",
      "\u001b[36mFile \u001b[39m\u001b[32mc:\\Users\\IFP-2025\\AppData\\Local\\Programs\\Python\\Python312\\Lib\\site-packages\\pandas\\core\\indexes\\multi.py:3023\u001b[39m, in \u001b[36mMultiIndex.get_loc\u001b[39m\u001b[34m(self, key)\u001b[39m\n\u001b[32m   2983\u001b[39m \u001b[38;5;250m\u001b[39m\u001b[33;03m\"\"\"\u001b[39;00m\n\u001b[32m   2984\u001b[39m \u001b[33;03mGet location for a label or a tuple of labels.\u001b[39;00m\n\u001b[32m   2985\u001b[39m \n\u001b[32m   (...)\u001b[39m\u001b[32m   3021\u001b[39m \u001b[33;03m1\u001b[39;00m\n\u001b[32m   3022\u001b[39m \u001b[33;03m\"\"\"\u001b[39;00m\n\u001b[32m-> \u001b[39m\u001b[32m3023\u001b[39m \u001b[38;5;28;43mself\u001b[39;49m\u001b[43m.\u001b[49m\u001b[43m_check_indexing_error\u001b[49m\u001b[43m(\u001b[49m\u001b[43mkey\u001b[49m\u001b[43m)\u001b[49m\n\u001b[32m   3025\u001b[39m \u001b[38;5;28;01mdef\u001b[39;00m\u001b[38;5;250m \u001b[39m\u001b[34m_maybe_to_slice\u001b[39m(loc):\n",
      "\u001b[36mFile \u001b[39m\u001b[32mc:\\Users\\IFP-2025\\AppData\\Local\\Programs\\Python\\Python312\\Lib\\site-packages\\pandas\\core\\indexes\\multi.py:2743\u001b[39m, in \u001b[36mMultiIndex._check_indexing_error\u001b[39m\u001b[34m(self, key)\u001b[39m\n\u001b[32m   2739\u001b[39m \u001b[38;5;28;01mif\u001b[39;00m \u001b[38;5;129;01mnot\u001b[39;00m is_hashable(key) \u001b[38;5;129;01mor\u001b[39;00m is_iterator(key):\n\u001b[32m   2740\u001b[39m     \u001b[38;5;66;03m# We allow tuples if they are hashable, whereas other Index\u001b[39;00m\n\u001b[32m   2741\u001b[39m     \u001b[38;5;66;03m#  subclasses require scalar.\u001b[39;00m\n\u001b[32m   2742\u001b[39m     \u001b[38;5;66;03m# We have to explicitly exclude generators, as these are hashable.\u001b[39;00m\n\u001b[32m-> \u001b[39m\u001b[32m2743\u001b[39m     \u001b[38;5;28;01mraise\u001b[39;00m InvalidIndexError(key)\n",
      "\u001b[31mInvalidIndexError\u001b[39m: ['martes', 'jueves', 'sabado']",
      "\nDuring handling of the above exception, another exception occurred:\n",
      "\u001b[31mKeyError\u001b[39m                                  Traceback (most recent call last)",
      "\u001b[36mCell\u001b[39m\u001b[36m \u001b[39m\u001b[32mIn[10]\u001b[39m\u001b[32m, line 9\u001b[39m\n\u001b[32m      6\u001b[39m \u001b[38;5;28mprint\u001b[39m(new_dias)\n\u001b[32m      8\u001b[39m cambio_pares=[\u001b[33m\"\u001b[39m\u001b[33mmartes\u001b[39m\u001b[33m\"\u001b[39m, \u001b[33m\"\u001b[39m\u001b[33mjueves\u001b[39m\u001b[33m\"\u001b[39m, \u001b[33m\"\u001b[39m\u001b[33msabado\u001b[39m\u001b[33m\"\u001b[39m]\n\u001b[32m----> \u001b[39m\u001b[32m9\u001b[39m \u001b[43mnew_dias\u001b[49m\u001b[43m[\u001b[49m\u001b[43mcambio_pares\u001b[49m\u001b[43m]\u001b[49m=[\u001b[33m\"\u001b[39m\u001b[33mbailar\u001b[39m\u001b[33m\"\u001b[39m, \u001b[33m\"\u001b[39m\u001b[33mcorrer\u001b[39m\u001b[33m\"\u001b[39m, \u001b[33m\"\u001b[39m\u001b[33mandar en bicileta\u001b[39m\u001b[33m\"\u001b[39m]\n\u001b[32m     10\u001b[39m \u001b[38;5;28mprint\u001b[39m(new_dias)\n",
      "\u001b[36mFile \u001b[39m\u001b[32mc:\\Users\\IFP-2025\\AppData\\Local\\Programs\\Python\\Python312\\Lib\\site-packages\\pandas\\core\\series.py:1364\u001b[39m, in \u001b[36mSeries.__setitem__\u001b[39m\u001b[34m(self, key, value)\u001b[39m\n\u001b[32m   1361\u001b[39m         \u001b[38;5;28;01mreturn\u001b[39;00m\n\u001b[32m   1363\u001b[39m     \u001b[38;5;28;01melse\u001b[39;00m:\n\u001b[32m-> \u001b[39m\u001b[32m1364\u001b[39m         \u001b[38;5;28;43mself\u001b[39;49m\u001b[43m.\u001b[49m\u001b[43m_set_with\u001b[49m\u001b[43m(\u001b[49m\u001b[43mkey\u001b[49m\u001b[43m,\u001b[49m\u001b[43m \u001b[49m\u001b[43mvalue\u001b[49m\u001b[43m,\u001b[49m\u001b[43m \u001b[49m\u001b[43mwarn\u001b[49m\u001b[43m=\u001b[49m\u001b[43mwarn\u001b[49m\u001b[43m)\u001b[49m\n\u001b[32m   1366\u001b[39m \u001b[38;5;28;01mif\u001b[39;00m cacher_needs_updating:\n\u001b[32m   1367\u001b[39m     \u001b[38;5;28mself\u001b[39m._maybe_update_cacher(inplace=\u001b[38;5;28;01mTrue\u001b[39;00m)\n",
      "\u001b[36mFile \u001b[39m\u001b[32mc:\\Users\\IFP-2025\\AppData\\Local\\Programs\\Python\\Python312\\Lib\\site-packages\\pandas\\core\\series.py:1405\u001b[39m, in \u001b[36mSeries._set_with\u001b[39m\u001b[34m(self, key, value, warn)\u001b[39m\n\u001b[32m   1403\u001b[39m     \u001b[38;5;28mself\u001b[39m._set_values(key, value, warn=warn)\n\u001b[32m   1404\u001b[39m \u001b[38;5;28;01melse\u001b[39;00m:\n\u001b[32m-> \u001b[39m\u001b[32m1405\u001b[39m     \u001b[38;5;28;43mself\u001b[39;49m\u001b[43m.\u001b[49m\u001b[43m_set_labels\u001b[49m\u001b[43m(\u001b[49m\u001b[43mkey\u001b[49m\u001b[43m,\u001b[49m\u001b[43m \u001b[49m\u001b[43mvalue\u001b[49m\u001b[43m,\u001b[49m\u001b[43m \u001b[49m\u001b[43mwarn\u001b[49m\u001b[43m=\u001b[49m\u001b[43mwarn\u001b[49m\u001b[43m)\u001b[49m\n",
      "\u001b[36mFile \u001b[39m\u001b[32mc:\\Users\\IFP-2025\\AppData\\Local\\Programs\\Python\\Python312\\Lib\\site-packages\\pandas\\core\\series.py:1412\u001b[39m, in \u001b[36mSeries._set_labels\u001b[39m\u001b[34m(self, key, value, warn)\u001b[39m\n\u001b[32m   1410\u001b[39m mask = indexer == -\u001b[32m1\u001b[39m\n\u001b[32m   1411\u001b[39m \u001b[38;5;28;01mif\u001b[39;00m mask.any():\n\u001b[32m-> \u001b[39m\u001b[32m1412\u001b[39m     \u001b[38;5;28;01mraise\u001b[39;00m \u001b[38;5;167;01mKeyError\u001b[39;00m(\u001b[33mf\u001b[39m\u001b[33m\"\u001b[39m\u001b[38;5;132;01m{\u001b[39;00mkey[mask]\u001b[38;5;132;01m}\u001b[39;00m\u001b[33m not in index\u001b[39m\u001b[33m\"\u001b[39m)\n\u001b[32m   1413\u001b[39m \u001b[38;5;28mself\u001b[39m._set_values(indexer, value, warn=warn)\n",
      "\u001b[31mKeyError\u001b[39m: \"['martes' 'jueves' 'sabado'] not in index\""
     ]
    }
   ],
   "source": [
    "rutina_semana=[\"correr\", \"andar en bicileta\", \"estar en las clases\", \"estudiar\", \"salir a caminar\",\"repasar\", \"descansar\"]\n",
    "new_rutina=pd.Series(rutina_semana)\n",
    "\n",
    "dias_semana=[\"lunes\", \"martes\", \"miercoles\", \"jueves\", \"viernes\", \"sabado\", \"domingo\" ]\n",
    "new_dias=pd.Series(rutina_semana, index=[dias_semana])\n",
    "print(new_dias)\n",
    "\n",
    "cambio_pares=[\"martes\", \"jueves\", \"sabado\"]\n",
    "new_dias[cambio_pares]=[\"bailar\", \"correr\", \"andar en bicileta\"]\n",
    "print(new_dias)\n",
    "\n",
    "\n"
   ]
  },
  {
   "cell_type": "markdown",
   "id": "28109c78",
   "metadata": {},
   "source": [
    "### Otra forma de hacerlo\n"
   ]
  },
  {
   "cell_type": "code",
   "execution_count": 4,
   "id": "3611d25a",
   "metadata": {},
   "outputs": [
    {
     "data": {
      "text/plain": [
       "'limpio'"
      ]
     },
     "execution_count": 4,
     "metadata": {},
     "output_type": "execute_result"
    }
   ],
   "source": [
    "rutina={\"Lunes\":\"limpio\",\"Martes\":\"cocino\",\n",
    "        \"Miercoles\":\"estudio\",\n",
    "        \"Jueves\":\"salgo\"\n",
    "        ,\"Viernes\":\"juego pelota\",\n",
    "        \"Sabado\":\"Paso con mi familia\",\n",
    "        \"Domingo\":\"Descanso\"}\n",
    "# todo:\n",
    "rutina=pd.Series(rutina)\n",
    "\n",
    "rutina\n",
    "rutina[\"Lunes\"]## accedo a un elemento de la serie a mi eleccion\n"
   ]
  },
  {
   "cell_type": "markdown",
   "id": "72cfc872",
   "metadata": {},
   "source": [
    "### Dias pares"
   ]
  },
  {
   "cell_type": "code",
   "execution_count": 5,
   "id": "daf5f484",
   "metadata": {},
   "outputs": [
    {
     "data": {
      "text/plain": [
       "Lunes                 limpio\n",
       "Martes       cambie de valor\n",
       "Miercoles            estudio\n",
       "Jueves       cambie de valor\n",
       "Viernes         juego pelota\n",
       "Sabado       cambie de valor\n",
       "Domingo             Descanso\n",
       "dtype: object"
      ]
     },
     "execution_count": 5,
     "metadata": {},
     "output_type": "execute_result"
    }
   ],
   "source": [
    "dias_pares=[\"Martes\",\"Jueves\",\"Sabado\"]\n",
    "\n",
    "for i in dias_pares:\n",
    "    rutina[i]=\"cambie de valor\"## accedo a los elementos de la serie que son pares\n",
    "\n",
    "rutina\n"
   ]
  },
  {
   "cell_type": "markdown",
   "id": "70a24b97",
   "metadata": {},
   "source": [
    "### **Actividad 3:**\n",
    "Operaciones aritméticas. \n",
    "* Realiza las operaciones basicas con 2 series cuales quieran.\n",
    "* Eleva los valores de la primer serie a 3 potencias difetentes."
   ]
  },
  {
   "cell_type": "code",
   "execution_count": 6,
   "id": "a9c8ebc7",
   "metadata": {},
   "outputs": [
    {
     "name": "stdout",
     "output_type": "stream",
     "text": [
      "serie 1 :\n",
<<<<<<< HEAD
      "0    9\n",
=======
      "0    7\n",
>>>>>>> 4c1be88db2a906f9b8e78193c661fb372083b581
      "dtype: int64\n",
      "serie 2 : \n",
      "0    8\n",
      "dtype: int64\n",
      "\n",
      "suma\n",
<<<<<<< HEAD
      "0    11\n",
      "dtype: int64\n",
      "\n",
      "resta\n",
      "0    7\n",
      "dtype: int64\n",
      "\n",
      "multiplicacion\n",
      "0    18\n",
      "dtype: int64\n",
      "\n",
      "division\n",
      "0    4.5\n",
      "dtype: float64\n"
=======
      "0    15\n",
      "dtype: int64\n",
      "\n",
      "resta\n",
      "0   -1\n",
      "dtype: int64\n",
      "\n",
      "multiplicacion\n",
      "0    56\n",
      "dtype: int64\n",
      "\n",
      "division\n",
      "0    0.875\n",
      "dtype: float64\n",
      "potencias\n",
      "potencia: \n",
      " 0    49\n",
      "dtype: int64 \n",
      " 0    512\n",
      "dtype: int64 \n",
      " 0    1\n",
      "dtype: int64\n"
>>>>>>> 4c1be88db2a906f9b8e78193c661fb372083b581
     ]
    },
    {
     "data": {
      "text/plain": [
       "(0    11\n",
       " dtype: int64,\n",
       " 0    7\n",
       " dtype: int64,\n",
       " 0    18\n",
       " dtype: int64,\n",
       " 0    4.5\n",
       " dtype: float64)"
      ]
     },
     "execution_count": 5,
     "metadata": {},
     "output_type": "execute_result"
    }
   ],
   "source": [
    "# todo:\n",
    "seri1=[random.randint(1,10) for i in range(1)]## le agregue solamnete rango uno para poder visualizar mejor\n",
    "seri2=[random.randint(1,10) for i in range(1)]\n",
    "new_serie=pd.Series(seri1) \n",
    "new_serie2=pd.Series(seri2)\n",
    "\n",
    "print(\"serie 1 :\")\n",
    "print(new_serie)\n",
    "print(\"serie 2 : \")\n",
    "print(new_serie2)\n",
    "\n",
    "def ejercicios():\n",
    "    suma=new_serie+new_serie2\n",
    "    print(\"\\nsuma\")\n",
    "    print(suma)\n",
    "    \n",
    "    resta=new_serie-new_serie2\n",
    "    print(\"\\nresta\")\n",
    "    print(resta)\n",
    "    \n",
    "    multiplicacion=new_serie*new_serie2\n",
    "    print(\"\\nmultiplicacion\")\n",
    "    print(multiplicacion)\n",
    "    \n",
    "    division=new_serie/new_serie2\n",
    "    print(\"\\ndivision\")\n",
    "    print(division)\n",
    "    return suma,resta,multiplicacion,division\n",
    "\n",
    "ejercicios()\n",
    "##esteticamente horrible pero cumple la funcion de sumar,restar,multiplicar \n"
   ]
  },
  {
   "cell_type": "markdown",
   "id": "9e820ff1",
   "metadata": {},
   "source": [
    "### Potencias\n"
   ]
  },
  {
   "cell_type": "code",
   "execution_count": 6,
   "id": "efedcd40",
   "metadata": {},
   "outputs": [
    {
     "name": "stdout",
     "output_type": "stream",
     "text": [
      "potencias\n",
      "\n",
      " 0    81\n",
      "dtype: int64 \n",
      " 0    8\n",
      "dtype: int64 \n",
      " 0    1\n",
      "dtype: int64\n"
     ]
    }
   ],
   "source": [
    "print(\"potencias\")\n",
    "potencia = new_serie ** 2\n",
    "potencia_2 = new_serie2 ** 3\n",
    "potencia_3 = new_serie2 ** 0\n",
    "print(f\"\\n {potencia} \\n {potencia_2} \\n {potencia_3}\")"
   ]
  },
  {
   "cell_type": "markdown",
   "id": "b8dac397",
   "metadata": {},
   "source": [
    "### **Actividad 4:** \n",
    "Filtrado con condiciones.\n",
    "* Crea una Series de edades de 10 personas.\n",
    "* Muestra solo a los mayores de 18.\n",
    "* Reemplaza a los menores por \"Menor de edad\"."
   ]
  },
  {
   "cell_type": "code",
   "execution_count": 7,
   "id": "d04fd492",
   "metadata": {},
   "outputs": [
    {
     "name": "stdout",
     "output_type": "stream",
     "text": [
      "mayores de edad:\n",
      "Emilio     19\n",
      "Gimena     20\n",
      "Lucas      21\n",
      "Nicolas    23\n",
      "Maxi       22\n",
      "dtype: int64\n",
      "menores de edad:\n",
      "Joaquin    11\n",
      "Juan       17\n",
      "Sofia      15\n",
      "Lautaro    16\n",
      "dtype: int64\n"
     ]
    }
   ],
   "source": [
    "personas = {\"Emilio\":19, \"Gimena\":20, \"Lucas\":21, \"Joaquin\":11, \"Nicolas\":23, \"Juan\":17, \"Sofia\":15, \"Valentina\":18, \"Lautaro\":16,\"Maxi\":22}\n",
    "personas = pd.Series(personas)\n",
    "\n",
    "mayor_edad = personas[personas > 18]\n",
    "print(f\"mayores de edad:\\n{mayor_edad}\")\n",
    "\n",
    "menor_edad = personas[personas < 18]\n",
    "print(f\"menores de edad:\\n{menor_edad}\")\n"
   ]
  },
  {
   "cell_type": "markdown",
   "id": "8889d0f2",
   "metadata": {},
   "source": [
    "### Actividad 5:\n",
    "Estadísticas básicas.\n",
    "\n",
    "* Crea una Series con las notas de 10 estudiantes.\n",
    "* Calcula la media, mediana, desviación estándar y máximo.\n",
    "* Muestra cuántos estudiantes aprobaron si el mínimo para aprobar es 6.\n",
    "* Ordenar las notas de manera ascendente y descendente. "
   ]
  },
  {
   "cell_type": "code",
   "execution_count": 8,
   "id": "bc0ec844",
   "metadata": {},
   "outputs": [
    {
<<<<<<< HEAD
     "name": "stdout",
     "output_type": "stream",
     "text": [
      "3.8\n",
      "3.5\n",
      "2.780887148615228\n",
      "9\n"
=======
     "ename": "TypeError",
     "evalue": "complex() first argument must be a string or a number, not 'list'",
     "output_type": "error",
     "traceback": [
      "\u001b[31m---------------------------------------------------------------------------\u001b[39m",
      "\u001b[31mTypeError\u001b[39m                                 Traceback (most recent call last)",
      "\u001b[36mFile \u001b[39m\u001b[32mc:\\Users\\IFP-2025\\AppData\\Local\\Programs\\Python\\Python312\\Lib\\site-packages\\pandas\\core\\nanops.py:1703\u001b[39m, in \u001b[36m_ensure_numeric\u001b[39m\u001b[34m(x)\u001b[39m\n\u001b[32m   1702\u001b[39m \u001b[38;5;28;01mtry\u001b[39;00m:\n\u001b[32m-> \u001b[39m\u001b[32m1703\u001b[39m     x = \u001b[38;5;28;43mfloat\u001b[39;49m\u001b[43m(\u001b[49m\u001b[43mx\u001b[49m\u001b[43m)\u001b[49m\n\u001b[32m   1704\u001b[39m \u001b[38;5;28;01mexcept\u001b[39;00m (\u001b[38;5;167;01mTypeError\u001b[39;00m, \u001b[38;5;167;01mValueError\u001b[39;00m):\n\u001b[32m   1705\u001b[39m     \u001b[38;5;66;03m# e.g. \"1+1j\" or \"foo\"\u001b[39;00m\n",
      "\u001b[31mTypeError\u001b[39m: float() argument must be a string or a real number, not 'list'",
      "\nDuring handling of the above exception, another exception occurred:\n",
      "\u001b[31mTypeError\u001b[39m                                 Traceback (most recent call last)",
      "\u001b[36mCell\u001b[39m\u001b[36m \u001b[39m\u001b[32mIn[8]\u001b[39m\u001b[32m, line 9\u001b[39m\n\u001b[32m      5\u001b[39m notas={\u001b[33m\"\u001b[39m\u001b[33mEmilio\u001b[39m\u001b[33m\"\u001b[39m:puntaje,\u001b[33m\"\u001b[39m\u001b[33mGimena\u001b[39m\u001b[33m\"\u001b[39m:puntaje,\u001b[33m\"\u001b[39m\u001b[33mLucas\u001b[39m\u001b[33m\"\u001b[39m:puntaje,\u001b[33m\"\u001b[39m\u001b[33mJoaquin\u001b[39m\u001b[33m\"\u001b[39m:puntaje,\u001b[33m\"\u001b[39m\u001b[33mNicolas\u001b[39m\u001b[33m\"\u001b[39m:puntaje,\u001b[33m\"\u001b[39m\u001b[33mJuan\u001b[39m\u001b[33m\"\u001b[39m:puntaje,\u001b[33m\"\u001b[39m\u001b[33mSofia\u001b[39m\u001b[33m\"\u001b[39m:puntaje,\u001b[33m\"\u001b[39m\u001b[33mValentina\u001b[39m\u001b[33m\"\u001b[39m:puntaje,\u001b[33m\"\u001b[39m\u001b[33mLautaro\u001b[39m\u001b[33m\"\u001b[39m:puntaje,\u001b[33m\"\u001b[39m\u001b[33mMaxi\u001b[39m\u001b[33m\"\u001b[39m:puntaje}\n\u001b[32m      6\u001b[39m notas=pd.Series(notas)\n\u001b[32m----> \u001b[39m\u001b[32m9\u001b[39m \u001b[38;5;28mprint\u001b[39m(\u001b[43mnotas\u001b[49m\u001b[43m.\u001b[49m\u001b[43mmean\u001b[49m\u001b[43m(\u001b[49m\u001b[43m)\u001b[49m)\n\u001b[32m     10\u001b[39m \u001b[38;5;28mprint\u001b[39m(notas.median())\n\u001b[32m     11\u001b[39m \u001b[38;5;28mprint\u001b[39m(notas.std())\n",
      "\u001b[36mFile \u001b[39m\u001b[32mc:\\Users\\IFP-2025\\AppData\\Local\\Programs\\Python\\Python312\\Lib\\site-packages\\pandas\\core\\series.py:6549\u001b[39m, in \u001b[36mSeries.mean\u001b[39m\u001b[34m(self, axis, skipna, numeric_only, **kwargs)\u001b[39m\n\u001b[32m   6541\u001b[39m \u001b[38;5;129m@doc\u001b[39m(make_doc(\u001b[33m\"\u001b[39m\u001b[33mmean\u001b[39m\u001b[33m\"\u001b[39m, ndim=\u001b[32m1\u001b[39m))\n\u001b[32m   6542\u001b[39m \u001b[38;5;28;01mdef\u001b[39;00m\u001b[38;5;250m \u001b[39m\u001b[34mmean\u001b[39m(\n\u001b[32m   6543\u001b[39m     \u001b[38;5;28mself\u001b[39m,\n\u001b[32m   (...)\u001b[39m\u001b[32m   6547\u001b[39m     **kwargs,\n\u001b[32m   6548\u001b[39m ):\n\u001b[32m-> \u001b[39m\u001b[32m6549\u001b[39m     \u001b[38;5;28;01mreturn\u001b[39;00m \u001b[43mNDFrame\u001b[49m\u001b[43m.\u001b[49m\u001b[43mmean\u001b[49m\u001b[43m(\u001b[49m\u001b[38;5;28;43mself\u001b[39;49m\u001b[43m,\u001b[49m\u001b[43m \u001b[49m\u001b[43maxis\u001b[49m\u001b[43m,\u001b[49m\u001b[43m \u001b[49m\u001b[43mskipna\u001b[49m\u001b[43m,\u001b[49m\u001b[43m \u001b[49m\u001b[43mnumeric_only\u001b[49m\u001b[43m,\u001b[49m\u001b[43m \u001b[49m\u001b[43m*\u001b[49m\u001b[43m*\u001b[49m\u001b[43mkwargs\u001b[49m\u001b[43m)\u001b[49m\n",
      "\u001b[36mFile \u001b[39m\u001b[32mc:\\Users\\IFP-2025\\AppData\\Local\\Programs\\Python\\Python312\\Lib\\site-packages\\pandas\\core\\generic.py:12420\u001b[39m, in \u001b[36mNDFrame.mean\u001b[39m\u001b[34m(self, axis, skipna, numeric_only, **kwargs)\u001b[39m\n\u001b[32m  12413\u001b[39m \u001b[38;5;28;01mdef\u001b[39;00m\u001b[38;5;250m \u001b[39m\u001b[34mmean\u001b[39m(\n\u001b[32m  12414\u001b[39m     \u001b[38;5;28mself\u001b[39m,\n\u001b[32m  12415\u001b[39m     axis: Axis | \u001b[38;5;28;01mNone\u001b[39;00m = \u001b[32m0\u001b[39m,\n\u001b[32m   (...)\u001b[39m\u001b[32m  12418\u001b[39m     **kwargs,\n\u001b[32m  12419\u001b[39m ) -> Series | \u001b[38;5;28mfloat\u001b[39m:\n\u001b[32m> \u001b[39m\u001b[32m12420\u001b[39m     \u001b[38;5;28;01mreturn\u001b[39;00m \u001b[38;5;28;43mself\u001b[39;49m\u001b[43m.\u001b[49m\u001b[43m_stat_function\u001b[49m\u001b[43m(\u001b[49m\n\u001b[32m  12421\u001b[39m \u001b[43m        \u001b[49m\u001b[33;43m\"\u001b[39;49m\u001b[33;43mmean\u001b[39;49m\u001b[33;43m\"\u001b[39;49m\u001b[43m,\u001b[49m\u001b[43m \u001b[49m\u001b[43mnanops\u001b[49m\u001b[43m.\u001b[49m\u001b[43mnanmean\u001b[49m\u001b[43m,\u001b[49m\u001b[43m \u001b[49m\u001b[43maxis\u001b[49m\u001b[43m,\u001b[49m\u001b[43m \u001b[49m\u001b[43mskipna\u001b[49m\u001b[43m,\u001b[49m\u001b[43m \u001b[49m\u001b[43mnumeric_only\u001b[49m\u001b[43m,\u001b[49m\u001b[43m \u001b[49m\u001b[43m*\u001b[49m\u001b[43m*\u001b[49m\u001b[43mkwargs\u001b[49m\n\u001b[32m  12422\u001b[39m \u001b[43m    \u001b[49m\u001b[43m)\u001b[49m\n",
      "\u001b[36mFile \u001b[39m\u001b[32mc:\\Users\\IFP-2025\\AppData\\Local\\Programs\\Python\\Python312\\Lib\\site-packages\\pandas\\core\\generic.py:12377\u001b[39m, in \u001b[36mNDFrame._stat_function\u001b[39m\u001b[34m(self, name, func, axis, skipna, numeric_only, **kwargs)\u001b[39m\n\u001b[32m  12373\u001b[39m nv.validate_func(name, (), kwargs)\n\u001b[32m  12375\u001b[39m validate_bool_kwarg(skipna, \u001b[33m\"\u001b[39m\u001b[33mskipna\u001b[39m\u001b[33m\"\u001b[39m, none_allowed=\u001b[38;5;28;01mFalse\u001b[39;00m)\n\u001b[32m> \u001b[39m\u001b[32m12377\u001b[39m \u001b[38;5;28;01mreturn\u001b[39;00m \u001b[38;5;28;43mself\u001b[39;49m\u001b[43m.\u001b[49m\u001b[43m_reduce\u001b[49m\u001b[43m(\u001b[49m\n\u001b[32m  12378\u001b[39m \u001b[43m    \u001b[49m\u001b[43mfunc\u001b[49m\u001b[43m,\u001b[49m\u001b[43m \u001b[49m\u001b[43mname\u001b[49m\u001b[43m=\u001b[49m\u001b[43mname\u001b[49m\u001b[43m,\u001b[49m\u001b[43m \u001b[49m\u001b[43maxis\u001b[49m\u001b[43m=\u001b[49m\u001b[43maxis\u001b[49m\u001b[43m,\u001b[49m\u001b[43m \u001b[49m\u001b[43mskipna\u001b[49m\u001b[43m=\u001b[49m\u001b[43mskipna\u001b[49m\u001b[43m,\u001b[49m\u001b[43m \u001b[49m\u001b[43mnumeric_only\u001b[49m\u001b[43m=\u001b[49m\u001b[43mnumeric_only\u001b[49m\n\u001b[32m  12379\u001b[39m \u001b[43m\u001b[49m\u001b[43m)\u001b[49m\n",
      "\u001b[36mFile \u001b[39m\u001b[32mc:\\Users\\IFP-2025\\AppData\\Local\\Programs\\Python\\Python312\\Lib\\site-packages\\pandas\\core\\series.py:6457\u001b[39m, in \u001b[36mSeries._reduce\u001b[39m\u001b[34m(self, op, name, axis, skipna, numeric_only, filter_type, **kwds)\u001b[39m\n\u001b[32m   6452\u001b[39m     \u001b[38;5;66;03m# GH#47500 - change to TypeError to match other methods\u001b[39;00m\n\u001b[32m   6453\u001b[39m     \u001b[38;5;28;01mraise\u001b[39;00m \u001b[38;5;167;01mTypeError\u001b[39;00m(\n\u001b[32m   6454\u001b[39m         \u001b[33mf\u001b[39m\u001b[33m\"\u001b[39m\u001b[33mSeries.\u001b[39m\u001b[38;5;132;01m{\u001b[39;00mname\u001b[38;5;132;01m}\u001b[39;00m\u001b[33m does not allow \u001b[39m\u001b[38;5;132;01m{\u001b[39;00mkwd_name\u001b[38;5;132;01m}\u001b[39;00m\u001b[33m=\u001b[39m\u001b[38;5;132;01m{\u001b[39;00mnumeric_only\u001b[38;5;132;01m}\u001b[39;00m\u001b[33m \u001b[39m\u001b[33m\"\u001b[39m\n\u001b[32m   6455\u001b[39m         \u001b[33m\"\u001b[39m\u001b[33mwith non-numeric dtypes.\u001b[39m\u001b[33m\"\u001b[39m\n\u001b[32m   6456\u001b[39m     )\n\u001b[32m-> \u001b[39m\u001b[32m6457\u001b[39m \u001b[38;5;28;01mreturn\u001b[39;00m \u001b[43mop\u001b[49m\u001b[43m(\u001b[49m\u001b[43mdelegate\u001b[49m\u001b[43m,\u001b[49m\u001b[43m \u001b[49m\u001b[43mskipna\u001b[49m\u001b[43m=\u001b[49m\u001b[43mskipna\u001b[49m\u001b[43m,\u001b[49m\u001b[43m \u001b[49m\u001b[43m*\u001b[49m\u001b[43m*\u001b[49m\u001b[43mkwds\u001b[49m\u001b[43m)\u001b[49m\n",
      "\u001b[36mFile \u001b[39m\u001b[32mc:\\Users\\IFP-2025\\AppData\\Local\\Programs\\Python\\Python312\\Lib\\site-packages\\pandas\\core\\nanops.py:147\u001b[39m, in \u001b[36mbottleneck_switch.__call__.<locals>.f\u001b[39m\u001b[34m(values, axis, skipna, **kwds)\u001b[39m\n\u001b[32m    145\u001b[39m         result = alt(values, axis=axis, skipna=skipna, **kwds)\n\u001b[32m    146\u001b[39m \u001b[38;5;28;01melse\u001b[39;00m:\n\u001b[32m--> \u001b[39m\u001b[32m147\u001b[39m     result = \u001b[43malt\u001b[49m\u001b[43m(\u001b[49m\u001b[43mvalues\u001b[49m\u001b[43m,\u001b[49m\u001b[43m \u001b[49m\u001b[43maxis\u001b[49m\u001b[43m=\u001b[49m\u001b[43maxis\u001b[49m\u001b[43m,\u001b[49m\u001b[43m \u001b[49m\u001b[43mskipna\u001b[49m\u001b[43m=\u001b[49m\u001b[43mskipna\u001b[49m\u001b[43m,\u001b[49m\u001b[43m \u001b[49m\u001b[43m*\u001b[49m\u001b[43m*\u001b[49m\u001b[43mkwds\u001b[49m\u001b[43m)\u001b[49m\n\u001b[32m    149\u001b[39m \u001b[38;5;28;01mreturn\u001b[39;00m result\n",
      "\u001b[36mFile \u001b[39m\u001b[32mc:\\Users\\IFP-2025\\AppData\\Local\\Programs\\Python\\Python312\\Lib\\site-packages\\pandas\\core\\nanops.py:404\u001b[39m, in \u001b[36m_datetimelike_compat.<locals>.new_func\u001b[39m\u001b[34m(values, axis, skipna, mask, **kwargs)\u001b[39m\n\u001b[32m    401\u001b[39m \u001b[38;5;28;01mif\u001b[39;00m datetimelike \u001b[38;5;129;01mand\u001b[39;00m mask \u001b[38;5;129;01mis\u001b[39;00m \u001b[38;5;28;01mNone\u001b[39;00m:\n\u001b[32m    402\u001b[39m     mask = isna(values)\n\u001b[32m--> \u001b[39m\u001b[32m404\u001b[39m result = \u001b[43mfunc\u001b[49m\u001b[43m(\u001b[49m\u001b[43mvalues\u001b[49m\u001b[43m,\u001b[49m\u001b[43m \u001b[49m\u001b[43maxis\u001b[49m\u001b[43m=\u001b[49m\u001b[43maxis\u001b[49m\u001b[43m,\u001b[49m\u001b[43m \u001b[49m\u001b[43mskipna\u001b[49m\u001b[43m=\u001b[49m\u001b[43mskipna\u001b[49m\u001b[43m,\u001b[49m\u001b[43m \u001b[49m\u001b[43mmask\u001b[49m\u001b[43m=\u001b[49m\u001b[43mmask\u001b[49m\u001b[43m,\u001b[49m\u001b[43m \u001b[49m\u001b[43m*\u001b[49m\u001b[43m*\u001b[49m\u001b[43mkwargs\u001b[49m\u001b[43m)\u001b[49m\n\u001b[32m    406\u001b[39m \u001b[38;5;28;01mif\u001b[39;00m datetimelike:\n\u001b[32m    407\u001b[39m     result = _wrap_results(result, orig_values.dtype, fill_value=iNaT)\n",
      "\u001b[36mFile \u001b[39m\u001b[32mc:\\Users\\IFP-2025\\AppData\\Local\\Programs\\Python\\Python312\\Lib\\site-packages\\pandas\\core\\nanops.py:720\u001b[39m, in \u001b[36mnanmean\u001b[39m\u001b[34m(values, axis, skipna, mask)\u001b[39m\n\u001b[32m    718\u001b[39m count = _get_counts(values.shape, mask, axis, dtype=dtype_count)\n\u001b[32m    719\u001b[39m the_sum = values.sum(axis, dtype=dtype_sum)\n\u001b[32m--> \u001b[39m\u001b[32m720\u001b[39m the_sum = \u001b[43m_ensure_numeric\u001b[49m\u001b[43m(\u001b[49m\u001b[43mthe_sum\u001b[49m\u001b[43m)\u001b[49m\n\u001b[32m    722\u001b[39m \u001b[38;5;28;01mif\u001b[39;00m axis \u001b[38;5;129;01mis\u001b[39;00m \u001b[38;5;129;01mnot\u001b[39;00m \u001b[38;5;28;01mNone\u001b[39;00m \u001b[38;5;129;01mand\u001b[39;00m \u001b[38;5;28mgetattr\u001b[39m(the_sum, \u001b[33m\"\u001b[39m\u001b[33mndim\u001b[39m\u001b[33m\"\u001b[39m, \u001b[38;5;28;01mFalse\u001b[39;00m):\n\u001b[32m    723\u001b[39m     count = cast(np.ndarray, count)\n",
      "\u001b[36mFile \u001b[39m\u001b[32mc:\\Users\\IFP-2025\\AppData\\Local\\Programs\\Python\\Python312\\Lib\\site-packages\\pandas\\core\\nanops.py:1707\u001b[39m, in \u001b[36m_ensure_numeric\u001b[39m\u001b[34m(x)\u001b[39m\n\u001b[32m   1704\u001b[39m \u001b[38;5;28;01mexcept\u001b[39;00m (\u001b[38;5;167;01mTypeError\u001b[39;00m, \u001b[38;5;167;01mValueError\u001b[39;00m):\n\u001b[32m   1705\u001b[39m     \u001b[38;5;66;03m# e.g. \"1+1j\" or \"foo\"\u001b[39;00m\n\u001b[32m   1706\u001b[39m     \u001b[38;5;28;01mtry\u001b[39;00m:\n\u001b[32m-> \u001b[39m\u001b[32m1707\u001b[39m         x = \u001b[38;5;28;43mcomplex\u001b[39;49m\u001b[43m(\u001b[49m\u001b[43mx\u001b[49m\u001b[43m)\u001b[49m\n\u001b[32m   1708\u001b[39m     \u001b[38;5;28;01mexcept\u001b[39;00m \u001b[38;5;167;01mValueError\u001b[39;00m \u001b[38;5;28;01mas\u001b[39;00m err:\n\u001b[32m   1709\u001b[39m         \u001b[38;5;66;03m# e.g. \"foo\"\u001b[39;00m\n\u001b[32m   1710\u001b[39m         \u001b[38;5;28;01mraise\u001b[39;00m \u001b[38;5;167;01mTypeError\u001b[39;00m(\u001b[33mf\u001b[39m\u001b[33m\"\u001b[39m\u001b[33mCould not convert \u001b[39m\u001b[38;5;132;01m{\u001b[39;00mx\u001b[38;5;132;01m}\u001b[39;00m\u001b[33m to numeric\u001b[39m\u001b[33m\"\u001b[39m) \u001b[38;5;28;01mfrom\u001b[39;00m\u001b[38;5;250m \u001b[39m\u001b[34;01merr\u001b[39;00m\n",
      "\u001b[31mTypeError\u001b[39m: complex() first argument must be a string or a number, not 'list'"
>>>>>>> 4c1be88db2a906f9b8e78193c661fb372083b581
     ]
    }
   ],
   "source": [
    "# todo:\n",
    "notas = {\n",
    "    \"Emilio\": random.randint(1, 10),\n",
    "    \"Gimena\": random.randint(1, 10),\n",
    "    \"Lucas\": random.randint(1, 10),\n",
    "    \"Joaquin\": random.randint(1, 10),\n",
    "    \"Nicolas\": random.randint(1, 10),\n",
    "    \"Juan\": random.randint(1, 10),\n",
    "    \"Sofia\": random.randint(1, 10),\n",
    "    \"Valentina\": random.randint(1, 10),\n",
    "    \"Lautaro\": random.randint(1, 10),\n",
    "    \"Maxi\": random.randint(1, 10),\n",
    "}\n",
    "notas=pd.Series(notas)\n",
    "\n",
    "print(notas.mean())\n",
    "print(notas.median())\n",
    "print(notas.std())\n",
    "print(notas.max())"
   ]
  },
  {
   "cell_type": "markdown",
   "id": "653a6686",
   "metadata": {},
   "source": [
    "###  Aprobados"
   ]
  },
  {
   "cell_type": "code",
   "execution_count": 9,
   "id": "0068211e",
   "metadata": {},
   "outputs": [
    {
     "name": "stdout",
     "output_type": "stream",
     "text": [
      "los alumnos que aprueban son: \n",
      "Gimena     6\n",
      "Lucas      6\n",
      "Joaquin    9\n",
      "dtype: int64\n"
     ]
    }
   ],
   "source": [
    "aprobados=notas[notas>=6]\n",
    "print(f\"los alumnos que aprueban son: \\n{aprobados}\")"
   ]
  },
  {
   "cell_type": "markdown",
   "id": "adca8a9b",
   "metadata": {},
   "source": [
    "### Notas en forma ascendente y descendente "
   ]
  },
  {
   "cell_type": "code",
   "execution_count": 10,
   "id": "d0c821e2",
   "metadata": {},
   "outputs": [
    {
     "name": "stdout",
     "output_type": "stream",
     "text": [
      "\n",
      "Notas ordenadas de manera ascendente:\n",
      "Juan         1\n",
      "Sofia        1\n",
      "Nicolas      1\n",
      "Emilio       2\n",
      "Maxi         2\n",
      "Valentina    5\n",
      "Lautaro      5\n",
      "Gimena       6\n",
      "Lucas        6\n",
      "Joaquin      9\n",
      "dtype: int64\n",
      "\n",
      "Notas ordenadas de manera descendente:\n",
      "Joaquin      9\n",
      "Gimena       6\n",
      "Lucas        6\n",
      "Lautaro      5\n",
      "Valentina    5\n",
      "Emilio       2\n",
      "Maxi         2\n",
      "Nicolas      1\n",
      "Juan         1\n",
      "Sofia        1\n",
      "dtype: int64\n"
     ]
    }
   ],
   "source": [
    "notas_ascendente = notas.sort_values(ascending=True)\n",
    "print(f\"\\nNotas ordenadas de manera ascendente:\\n{notas_ascendente}\")\n",
    "notas_descendente = notas.sort_values(ascending=False)\n",
    "print(f\"\\nNotas ordenadas de manera descendente:\\n{notas_descendente}\")"
   ]
  }
 ],
 "metadata": {
  "kernelspec": {
   "display_name": "Python 3",
   "language": "python",
   "name": "python3"
  },
  "language_info": {
   "codemirror_mode": {
    "name": "ipython",
    "version": 3
   },
   "file_extension": ".py",
   "mimetype": "text/x-python",
   "name": "python",
   "nbconvert_exporter": "python",
   "pygments_lexer": "ipython3",
   "version": "3.12.9"
  }
 },
 "nbformat": 4,
 "nbformat_minor": 5
}
