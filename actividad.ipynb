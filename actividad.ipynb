{
 "cells": [
  {
   "cell_type": "markdown",
   "id": "498731c6",
   "metadata": {},
   "source": [
    "# Actividad - Trabajando con Series de Pandas.\n",
    "## Criterios de evaluación.\n",
    "\n",
    "* Se deben utilizar nombres de variables descriptivos y claros (Utilizar la nomeclatura correspondiente para los nombres de variables).\n",
    "* Comentarios claros y concisos que expliquen el propósito de cada sección del código.\n",
    "* Utilizar mensajes de commit **descriptivos**. (Puedes utilizar la extension CONVENTIONAL COMMIT de VS-CODE). \n",
    "* Entrega en tiempo y forma.\n",
    "* Todo el código desarrollado debe ser subido a un repositorio en GitHub (el nombre del repositorio de seguir la siguiente estructura: actividad_tlp3_nombre_apellido).\n",
    "* Para resolver las actividades se debe insertar casillas de codigo entre cada actividad del cuaderno de Jupyter\n",
    "\n",
    "### ¡Importante!\n",
    "**El incumplimiento de los criterios de evaluación restará puntos en la nota final del práctico!**"
   ]
  },
  {
   "cell_type": "markdown",
   "id": "b361a7b6",
   "metadata": {},
   "source": [
    "### **Actividad 1:** \n",
    "\n",
    "Crear Series desde diferentes estructuras.\n",
    "* Crea una Series con los números del 1 al 5\n",
    "* Crea una Series a partir de un diccionario con nombres de países como claves y sus capitales como valores."
   ]
  },
  {
   "cell_type": "code",
   "execution_count": 1,
   "id": "296daae9",
   "metadata": {},
   "outputs": [],
   "source": [
    "import pandas as pd\n",
    "import random"
   ]
  },
  {
   "cell_type": "code",
   "execution_count": 2,
   "id": "26009294",
   "metadata": {},
   "outputs": [
    {
     "name": "stdout",
     "output_type": "stream",
     "text": [
      "0    1\n",
      "1    2\n",
      "2    3\n",
      "3    4\n",
      "4    5\n",
      "dtype: int64\n"
     ]
    },
    {
     "data": {
      "text/plain": [
       "argentina    Buenos Aires\n",
       "brasil           Brasilia\n",
       "chile            Santiago\n",
       "colombia           Bogota\n",
       "paraguay         Asuncion\n",
       "dtype: object"
      ]
     },
     "execution_count": 2,
     "metadata": {},
     "output_type": "execute_result"
    }
   ],
   "source": [
    "num=pd.Series([1,2,3,4,5])\n",
    "print(num)\n",
    "\n",
    "paises_capitales={\"argentina\":\"Buenos Aires\",\n",
    "                \"brasil\":\"Brasilia\",\n",
    "                \"chile\":\"Santiago\",\n",
    "                \"colombia\":\"Bogota\",\n",
    "                \"paraguay\":\"Asuncion\"}\n",
    "\n",
    "new_location=pd.Series(paises_capitales)\n",
    "new_location\n",
    "\n",
    "# todo:"
   ]
  },
  {
   "cell_type": "markdown",
   "id": "0c239195",
   "metadata": {},
   "source": [
    "### **Actividad 2:** \n",
    "Acceso y selección de elementos.\n",
    "* Usa una Series con tareas (que haceres cotidianos) de una semana\n",
    "* Accede a diferentes elementos a elección.\n",
    "* Cambia los valores de los dias pares.\n"
   ]
  },
  {
   "cell_type": "code",
   "execution_count": 3,
   "id": "3611d25a",
   "metadata": {},
   "outputs": [
    {
     "data": {
      "text/plain": [
       "'limpio'"
      ]
     },
     "execution_count": 3,
     "metadata": {},
     "output_type": "execute_result"
    }
   ],
   "source": [
    "rutina={\"Lunes\":\"limpio\",\"Martes\":\"cocino\",\n",
    "        \"Miercoles\":\"estudio\",\n",
    "        \"Jueves\":\"salgo\"\n",
    "        ,\"Viernes\":\"juego pelota\",\n",
    "        \"Sabado\":\"Paso con mi familia\",\n",
    "        \"Domingo\":\"Descanso\"}\n",
    "# todo:\n",
    "rutina=pd.Series(rutina)\n",
    "\n",
    "rutina\n",
    "rutina[\"Lunes\"]## accedo a un elemento de la serie a mi eleccion\n",
    "\n",
    "\n",
    "\n",
    "\n"
   ]
  },
  {
   "cell_type": "code",
   "execution_count": 4,
   "id": "daf5f484",
   "metadata": {},
   "outputs": [
    {
     "data": {
      "text/plain": [
       "Lunes                 limpio\n",
       "Martes       cambie de valor\n",
       "Miercoles            estudio\n",
       "Jueves       cambie de valor\n",
       "Viernes         juego pelota\n",
       "Sabado       cambie de valor\n",
       "Domingo             Descanso\n",
       "dtype: object"
      ]
     },
     "execution_count": 4,
     "metadata": {},
     "output_type": "execute_result"
    }
   ],
   "source": [
    "dias_pares=[\"Martes\",\"Jueves\",\"Sabado\"]\n",
    "\n",
    "for i in dias_pares:\n",
    "    rutina[i]=\"cambie de valor\"## accedo a los elementos de la serie que son pares\n",
    "\n",
    "rutina\n"
   ]
  },
  {
   "cell_type": "markdown",
   "id": "70a24b97",
   "metadata": {},
   "source": [
    "### **Actividad 3:**\n",
    "Operaciones aritméticas. \n",
    "* Realiza las operaciones basicas con 2 series cuales quieran.\n",
    "* Eleva los valores de la primer serie a 3 potencias difetentes."
   ]
  },
  {
   "cell_type": "code",
   "execution_count": 5,
   "id": "a9c8ebc7",
   "metadata": {},
   "outputs": [
    {
     "name": "stdout",
     "output_type": "stream",
     "text": [
      "serie 1 :\n",
      "0    3\n",
      "dtype: int64\n",
      "serie 2 : \n",
      "0    2\n",
      "dtype: int64\n",
      "\n",
      "suma\n",
      "0    5\n",
      "dtype: int64\n",
      "\n",
      "resta\n",
      "0    1\n",
      "dtype: int64\n",
      "\n",
      "multiplicacion\n",
      "0    6\n",
      "dtype: int64\n",
      "\n",
      "division\n",
      "0    1.5\n",
      "dtype: float64\n",
      "potencias\n",
      "potencia: \n",
      " 0    9\n",
      "dtype: int64 \n",
      " 0    8\n",
      "dtype: int64 \n",
      " 0    1\n",
      "dtype: int64\n"
     ]
    }
   ],
   "source": [
    "# todo:\n",
    "seri1=[random.randint(1,10) for i in range(1)]\n",
    "seri2=[random.randint(1,10) for i in range(1)]\n",
    "new_serie=pd.Series(seri1) \n",
    "new_serie2=pd.Series(seri2)\n",
    "\n",
    "\n",
    "\n",
    "print(\"serie 1 :\")\n",
    "print(new_serie)\n",
    "print(\"serie 2 : \")\n",
    "print(new_serie2)\n",
    "\n",
    "def ejercicios():\n",
    "    suma=new_serie+new_serie2\n",
    "    print(\"\\nsuma\")\n",
    "    print(suma)\n",
    "    \n",
    "    resta=new_serie-new_serie2\n",
    "    print(\"\\nresta\")\n",
    "    print(resta)\n",
    "    \n",
    "    multiplicacion=new_serie*new_serie2\n",
    "    print(\"\\nmultiplicacion\")\n",
    "    print(multiplicacion)\n",
    "    \n",
    "    division=new_serie/new_serie2\n",
    "    print(\"\\ndivision\")\n",
    "    print(division)\n",
    "    return suma,resta,multiplicacion,division\n",
    "\n",
    "ejercicios()\n",
    "##esteticamente horrible pero cumple la funcion de sumar,restar,multiplicar \n",
    "print(\"potencias\")\n",
    "potencia = new_serie ** 2\n",
    "potencia_2 = new_serie2 ** 3\n",
    "potencia_3 = new_serie2 ** 0\n",
    "print(f\"potencia: \\n {potencia} \\n {potencia_2} \\n {potencia_3}\")"
   ]
  },
  {
   "cell_type": "markdown",
   "id": "b8dac397",
   "metadata": {},
   "source": [
    "### **Actividad 4:** \n",
    "Filtrado con condiciones.\n",
    "* Crea una Series de edades de 10 personas.\n",
    "* Muestra solo a los mayores de 18.\n",
    "* Reemplaza a los menores por \"Menor de edad\"."
   ]
  },
  {
   "cell_type": "code",
   "execution_count": 6,
   "id": "d04fd492",
   "metadata": {},
   "outputs": [
    {
     "name": "stdout",
     "output_type": "stream",
     "text": [
      "mayores de edad:\n",
      "Emilio     19\n",
      "Gimena     20\n",
      "Lucas      21\n",
      "Nicolas    23\n",
      "Maxi       22\n",
      "dtype: int64\n",
      "menores de edad:\n",
      "Joaquin    11\n",
      "Juan       17\n",
      "Sofia      15\n",
      "Lautaro    16\n",
      "dtype: int64\n"
     ]
    }
   ],
   "source": [
    "personas = {\"Emilio\":19, \"Gimena\":20, \"Lucas\":21, \"Joaquin\":11, \"Nicolas\":23, \"Juan\":17, \"Sofia\":15, \"Valentina\":18, \"Lautaro\":16,\"Maxi\":22}\n",
    "personas = pd.Series(personas)\n",
    "\n",
    "mayor_edad = personas[personas > 18]\n",
    "print(f\"mayores de edad:\\n{mayor_edad}\")\n",
    "\n",
    "menor_edad = personas[personas < 18]\n",
    "print(f\"menores de edad:\\n{menor_edad}\")\n",
    "\n",
    "\n",
    "\n"
   ]
  },
  {
   "cell_type": "markdown",
   "id": "8889d0f2",
   "metadata": {},
   "source": [
    "### Actividad 5:\n",
    "Estadísticas básicas.\n",
    "\n",
    "* Crea una Series con las notas de 10 estudiantes.\n",
    "* Calcula la media, mediana, desviación estándar y máximo.\n",
    "* Muestra cuántos estudiantes aprobaron si el mínimo para aprobar es 6.\n",
    "* Ordenar las notas de manera ascendente y descendente. "
   ]
  },
  {
   "cell_type": "code",
   "execution_count": 112,
   "id": "bc0ec844",
   "metadata": {},
   "outputs": [
    {
     "ename": "TypeError",
     "evalue": "complex() first argument must be a string or a number, not 'list'",
     "output_type": "error",
     "traceback": [
      "\u001b[31m---------------------------------------------------------------------------\u001b[39m",
      "\u001b[31mTypeError\u001b[39m                                 Traceback (most recent call last)",
      "\u001b[36mFile \u001b[39m\u001b[32mc:\\Users\\IFP-2025\\AppData\\Local\\Programs\\Python\\Python312\\Lib\\site-packages\\pandas\\core\\nanops.py:1703\u001b[39m, in \u001b[36m_ensure_numeric\u001b[39m\u001b[34m(x)\u001b[39m\n\u001b[32m   1702\u001b[39m \u001b[38;5;28;01mtry\u001b[39;00m:\n\u001b[32m-> \u001b[39m\u001b[32m1703\u001b[39m     x = \u001b[38;5;28;43mfloat\u001b[39;49m\u001b[43m(\u001b[49m\u001b[43mx\u001b[49m\u001b[43m)\u001b[49m\n\u001b[32m   1704\u001b[39m \u001b[38;5;28;01mexcept\u001b[39;00m (\u001b[38;5;167;01mTypeError\u001b[39;00m, \u001b[38;5;167;01mValueError\u001b[39;00m):\n\u001b[32m   1705\u001b[39m     \u001b[38;5;66;03m# e.g. \"1+1j\" or \"foo\"\u001b[39;00m\n",
      "\u001b[31mTypeError\u001b[39m: float() argument must be a string or a real number, not 'list'",
      "\nDuring handling of the above exception, another exception occurred:\n",
      "\u001b[31mTypeError\u001b[39m                                 Traceback (most recent call last)",
      "\u001b[36mCell\u001b[39m\u001b[36m \u001b[39m\u001b[32mIn[112]\u001b[39m\u001b[32m, line 9\u001b[39m\n\u001b[32m      5\u001b[39m notas={\u001b[33m\"\u001b[39m\u001b[33mEmilio\u001b[39m\u001b[33m\"\u001b[39m:puntaje,\u001b[33m\"\u001b[39m\u001b[33mGimena\u001b[39m\u001b[33m\"\u001b[39m:puntaje,\u001b[33m\"\u001b[39m\u001b[33mLucas\u001b[39m\u001b[33m\"\u001b[39m:puntaje,\u001b[33m\"\u001b[39m\u001b[33mJoaquin\u001b[39m\u001b[33m\"\u001b[39m:puntaje,\u001b[33m\"\u001b[39m\u001b[33mNicolas\u001b[39m\u001b[33m\"\u001b[39m:puntaje,\u001b[33m\"\u001b[39m\u001b[33mJuan\u001b[39m\u001b[33m\"\u001b[39m:puntaje,\u001b[33m\"\u001b[39m\u001b[33mSofia\u001b[39m\u001b[33m\"\u001b[39m:puntaje,\u001b[33m\"\u001b[39m\u001b[33mValentina\u001b[39m\u001b[33m\"\u001b[39m:puntaje,\u001b[33m\"\u001b[39m\u001b[33mLautaro\u001b[39m\u001b[33m\"\u001b[39m:puntaje,\u001b[33m\"\u001b[39m\u001b[33mMaxi\u001b[39m\u001b[33m\"\u001b[39m:puntaje}\n\u001b[32m      6\u001b[39m notas=pd.Series(notas)\n\u001b[32m----> \u001b[39m\u001b[32m9\u001b[39m \u001b[38;5;28mprint\u001b[39m(\u001b[43mnotas\u001b[49m\u001b[43m.\u001b[49m\u001b[43mmean\u001b[49m\u001b[43m(\u001b[49m\u001b[43m)\u001b[49m)\n\u001b[32m     10\u001b[39m \u001b[38;5;28mprint\u001b[39m(notas.median())\n\u001b[32m     11\u001b[39m \u001b[38;5;28mprint\u001b[39m(notas.std())\n",
      "\u001b[36mFile \u001b[39m\u001b[32mc:\\Users\\IFP-2025\\AppData\\Local\\Programs\\Python\\Python312\\Lib\\site-packages\\pandas\\core\\series.py:6549\u001b[39m, in \u001b[36mSeries.mean\u001b[39m\u001b[34m(self, axis, skipna, numeric_only, **kwargs)\u001b[39m\n\u001b[32m   6541\u001b[39m \u001b[38;5;129m@doc\u001b[39m(make_doc(\u001b[33m\"\u001b[39m\u001b[33mmean\u001b[39m\u001b[33m\"\u001b[39m, ndim=\u001b[32m1\u001b[39m))\n\u001b[32m   6542\u001b[39m \u001b[38;5;28;01mdef\u001b[39;00m\u001b[38;5;250m \u001b[39m\u001b[34mmean\u001b[39m(\n\u001b[32m   6543\u001b[39m     \u001b[38;5;28mself\u001b[39m,\n\u001b[32m   (...)\u001b[39m\u001b[32m   6547\u001b[39m     **kwargs,\n\u001b[32m   6548\u001b[39m ):\n\u001b[32m-> \u001b[39m\u001b[32m6549\u001b[39m     \u001b[38;5;28;01mreturn\u001b[39;00m \u001b[43mNDFrame\u001b[49m\u001b[43m.\u001b[49m\u001b[43mmean\u001b[49m\u001b[43m(\u001b[49m\u001b[38;5;28;43mself\u001b[39;49m\u001b[43m,\u001b[49m\u001b[43m \u001b[49m\u001b[43maxis\u001b[49m\u001b[43m,\u001b[49m\u001b[43m \u001b[49m\u001b[43mskipna\u001b[49m\u001b[43m,\u001b[49m\u001b[43m \u001b[49m\u001b[43mnumeric_only\u001b[49m\u001b[43m,\u001b[49m\u001b[43m \u001b[49m\u001b[43m*\u001b[49m\u001b[43m*\u001b[49m\u001b[43mkwargs\u001b[49m\u001b[43m)\u001b[49m\n",
      "\u001b[36mFile \u001b[39m\u001b[32mc:\\Users\\IFP-2025\\AppData\\Local\\Programs\\Python\\Python312\\Lib\\site-packages\\pandas\\core\\generic.py:12420\u001b[39m, in \u001b[36mNDFrame.mean\u001b[39m\u001b[34m(self, axis, skipna, numeric_only, **kwargs)\u001b[39m\n\u001b[32m  12413\u001b[39m \u001b[38;5;28;01mdef\u001b[39;00m\u001b[38;5;250m \u001b[39m\u001b[34mmean\u001b[39m(\n\u001b[32m  12414\u001b[39m     \u001b[38;5;28mself\u001b[39m,\n\u001b[32m  12415\u001b[39m     axis: Axis | \u001b[38;5;28;01mNone\u001b[39;00m = \u001b[32m0\u001b[39m,\n\u001b[32m   (...)\u001b[39m\u001b[32m  12418\u001b[39m     **kwargs,\n\u001b[32m  12419\u001b[39m ) -> Series | \u001b[38;5;28mfloat\u001b[39m:\n\u001b[32m> \u001b[39m\u001b[32m12420\u001b[39m     \u001b[38;5;28;01mreturn\u001b[39;00m \u001b[38;5;28;43mself\u001b[39;49m\u001b[43m.\u001b[49m\u001b[43m_stat_function\u001b[49m\u001b[43m(\u001b[49m\n\u001b[32m  12421\u001b[39m \u001b[43m        \u001b[49m\u001b[33;43m\"\u001b[39;49m\u001b[33;43mmean\u001b[39;49m\u001b[33;43m\"\u001b[39;49m\u001b[43m,\u001b[49m\u001b[43m \u001b[49m\u001b[43mnanops\u001b[49m\u001b[43m.\u001b[49m\u001b[43mnanmean\u001b[49m\u001b[43m,\u001b[49m\u001b[43m \u001b[49m\u001b[43maxis\u001b[49m\u001b[43m,\u001b[49m\u001b[43m \u001b[49m\u001b[43mskipna\u001b[49m\u001b[43m,\u001b[49m\u001b[43m \u001b[49m\u001b[43mnumeric_only\u001b[49m\u001b[43m,\u001b[49m\u001b[43m \u001b[49m\u001b[43m*\u001b[49m\u001b[43m*\u001b[49m\u001b[43mkwargs\u001b[49m\n\u001b[32m  12422\u001b[39m \u001b[43m    \u001b[49m\u001b[43m)\u001b[49m\n",
      "\u001b[36mFile \u001b[39m\u001b[32mc:\\Users\\IFP-2025\\AppData\\Local\\Programs\\Python\\Python312\\Lib\\site-packages\\pandas\\core\\generic.py:12377\u001b[39m, in \u001b[36mNDFrame._stat_function\u001b[39m\u001b[34m(self, name, func, axis, skipna, numeric_only, **kwargs)\u001b[39m\n\u001b[32m  12373\u001b[39m nv.validate_func(name, (), kwargs)\n\u001b[32m  12375\u001b[39m validate_bool_kwarg(skipna, \u001b[33m\"\u001b[39m\u001b[33mskipna\u001b[39m\u001b[33m\"\u001b[39m, none_allowed=\u001b[38;5;28;01mFalse\u001b[39;00m)\n\u001b[32m> \u001b[39m\u001b[32m12377\u001b[39m \u001b[38;5;28;01mreturn\u001b[39;00m \u001b[38;5;28;43mself\u001b[39;49m\u001b[43m.\u001b[49m\u001b[43m_reduce\u001b[49m\u001b[43m(\u001b[49m\n\u001b[32m  12378\u001b[39m \u001b[43m    \u001b[49m\u001b[43mfunc\u001b[49m\u001b[43m,\u001b[49m\u001b[43m \u001b[49m\u001b[43mname\u001b[49m\u001b[43m=\u001b[49m\u001b[43mname\u001b[49m\u001b[43m,\u001b[49m\u001b[43m \u001b[49m\u001b[43maxis\u001b[49m\u001b[43m=\u001b[49m\u001b[43maxis\u001b[49m\u001b[43m,\u001b[49m\u001b[43m \u001b[49m\u001b[43mskipna\u001b[49m\u001b[43m=\u001b[49m\u001b[43mskipna\u001b[49m\u001b[43m,\u001b[49m\u001b[43m \u001b[49m\u001b[43mnumeric_only\u001b[49m\u001b[43m=\u001b[49m\u001b[43mnumeric_only\u001b[49m\n\u001b[32m  12379\u001b[39m \u001b[43m\u001b[49m\u001b[43m)\u001b[49m\n",
      "\u001b[36mFile \u001b[39m\u001b[32mc:\\Users\\IFP-2025\\AppData\\Local\\Programs\\Python\\Python312\\Lib\\site-packages\\pandas\\core\\series.py:6457\u001b[39m, in \u001b[36mSeries._reduce\u001b[39m\u001b[34m(self, op, name, axis, skipna, numeric_only, filter_type, **kwds)\u001b[39m\n\u001b[32m   6452\u001b[39m     \u001b[38;5;66;03m# GH#47500 - change to TypeError to match other methods\u001b[39;00m\n\u001b[32m   6453\u001b[39m     \u001b[38;5;28;01mraise\u001b[39;00m \u001b[38;5;167;01mTypeError\u001b[39;00m(\n\u001b[32m   6454\u001b[39m         \u001b[33mf\u001b[39m\u001b[33m\"\u001b[39m\u001b[33mSeries.\u001b[39m\u001b[38;5;132;01m{\u001b[39;00mname\u001b[38;5;132;01m}\u001b[39;00m\u001b[33m does not allow \u001b[39m\u001b[38;5;132;01m{\u001b[39;00mkwd_name\u001b[38;5;132;01m}\u001b[39;00m\u001b[33m=\u001b[39m\u001b[38;5;132;01m{\u001b[39;00mnumeric_only\u001b[38;5;132;01m}\u001b[39;00m\u001b[33m \u001b[39m\u001b[33m\"\u001b[39m\n\u001b[32m   6455\u001b[39m         \u001b[33m\"\u001b[39m\u001b[33mwith non-numeric dtypes.\u001b[39m\u001b[33m\"\u001b[39m\n\u001b[32m   6456\u001b[39m     )\n\u001b[32m-> \u001b[39m\u001b[32m6457\u001b[39m \u001b[38;5;28;01mreturn\u001b[39;00m \u001b[43mop\u001b[49m\u001b[43m(\u001b[49m\u001b[43mdelegate\u001b[49m\u001b[43m,\u001b[49m\u001b[43m \u001b[49m\u001b[43mskipna\u001b[49m\u001b[43m=\u001b[49m\u001b[43mskipna\u001b[49m\u001b[43m,\u001b[49m\u001b[43m \u001b[49m\u001b[43m*\u001b[49m\u001b[43m*\u001b[49m\u001b[43mkwds\u001b[49m\u001b[43m)\u001b[49m\n",
      "\u001b[36mFile \u001b[39m\u001b[32mc:\\Users\\IFP-2025\\AppData\\Local\\Programs\\Python\\Python312\\Lib\\site-packages\\pandas\\core\\nanops.py:147\u001b[39m, in \u001b[36mbottleneck_switch.__call__.<locals>.f\u001b[39m\u001b[34m(values, axis, skipna, **kwds)\u001b[39m\n\u001b[32m    145\u001b[39m         result = alt(values, axis=axis, skipna=skipna, **kwds)\n\u001b[32m    146\u001b[39m \u001b[38;5;28;01melse\u001b[39;00m:\n\u001b[32m--> \u001b[39m\u001b[32m147\u001b[39m     result = \u001b[43malt\u001b[49m\u001b[43m(\u001b[49m\u001b[43mvalues\u001b[49m\u001b[43m,\u001b[49m\u001b[43m \u001b[49m\u001b[43maxis\u001b[49m\u001b[43m=\u001b[49m\u001b[43maxis\u001b[49m\u001b[43m,\u001b[49m\u001b[43m \u001b[49m\u001b[43mskipna\u001b[49m\u001b[43m=\u001b[49m\u001b[43mskipna\u001b[49m\u001b[43m,\u001b[49m\u001b[43m \u001b[49m\u001b[43m*\u001b[49m\u001b[43m*\u001b[49m\u001b[43mkwds\u001b[49m\u001b[43m)\u001b[49m\n\u001b[32m    149\u001b[39m \u001b[38;5;28;01mreturn\u001b[39;00m result\n",
      "\u001b[36mFile \u001b[39m\u001b[32mc:\\Users\\IFP-2025\\AppData\\Local\\Programs\\Python\\Python312\\Lib\\site-packages\\pandas\\core\\nanops.py:404\u001b[39m, in \u001b[36m_datetimelike_compat.<locals>.new_func\u001b[39m\u001b[34m(values, axis, skipna, mask, **kwargs)\u001b[39m\n\u001b[32m    401\u001b[39m \u001b[38;5;28;01mif\u001b[39;00m datetimelike \u001b[38;5;129;01mand\u001b[39;00m mask \u001b[38;5;129;01mis\u001b[39;00m \u001b[38;5;28;01mNone\u001b[39;00m:\n\u001b[32m    402\u001b[39m     mask = isna(values)\n\u001b[32m--> \u001b[39m\u001b[32m404\u001b[39m result = \u001b[43mfunc\u001b[49m\u001b[43m(\u001b[49m\u001b[43mvalues\u001b[49m\u001b[43m,\u001b[49m\u001b[43m \u001b[49m\u001b[43maxis\u001b[49m\u001b[43m=\u001b[49m\u001b[43maxis\u001b[49m\u001b[43m,\u001b[49m\u001b[43m \u001b[49m\u001b[43mskipna\u001b[49m\u001b[43m=\u001b[49m\u001b[43mskipna\u001b[49m\u001b[43m,\u001b[49m\u001b[43m \u001b[49m\u001b[43mmask\u001b[49m\u001b[43m=\u001b[49m\u001b[43mmask\u001b[49m\u001b[43m,\u001b[49m\u001b[43m \u001b[49m\u001b[43m*\u001b[49m\u001b[43m*\u001b[49m\u001b[43mkwargs\u001b[49m\u001b[43m)\u001b[49m\n\u001b[32m    406\u001b[39m \u001b[38;5;28;01mif\u001b[39;00m datetimelike:\n\u001b[32m    407\u001b[39m     result = _wrap_results(result, orig_values.dtype, fill_value=iNaT)\n",
      "\u001b[36mFile \u001b[39m\u001b[32mc:\\Users\\IFP-2025\\AppData\\Local\\Programs\\Python\\Python312\\Lib\\site-packages\\pandas\\core\\nanops.py:720\u001b[39m, in \u001b[36mnanmean\u001b[39m\u001b[34m(values, axis, skipna, mask)\u001b[39m\n\u001b[32m    718\u001b[39m count = _get_counts(values.shape, mask, axis, dtype=dtype_count)\n\u001b[32m    719\u001b[39m the_sum = values.sum(axis, dtype=dtype_sum)\n\u001b[32m--> \u001b[39m\u001b[32m720\u001b[39m the_sum = \u001b[43m_ensure_numeric\u001b[49m\u001b[43m(\u001b[49m\u001b[43mthe_sum\u001b[49m\u001b[43m)\u001b[49m\n\u001b[32m    722\u001b[39m \u001b[38;5;28;01mif\u001b[39;00m axis \u001b[38;5;129;01mis\u001b[39;00m \u001b[38;5;129;01mnot\u001b[39;00m \u001b[38;5;28;01mNone\u001b[39;00m \u001b[38;5;129;01mand\u001b[39;00m \u001b[38;5;28mgetattr\u001b[39m(the_sum, \u001b[33m\"\u001b[39m\u001b[33mndim\u001b[39m\u001b[33m\"\u001b[39m, \u001b[38;5;28;01mFalse\u001b[39;00m):\n\u001b[32m    723\u001b[39m     count = cast(np.ndarray, count)\n",
      "\u001b[36mFile \u001b[39m\u001b[32mc:\\Users\\IFP-2025\\AppData\\Local\\Programs\\Python\\Python312\\Lib\\site-packages\\pandas\\core\\nanops.py:1707\u001b[39m, in \u001b[36m_ensure_numeric\u001b[39m\u001b[34m(x)\u001b[39m\n\u001b[32m   1704\u001b[39m \u001b[38;5;28;01mexcept\u001b[39;00m (\u001b[38;5;167;01mTypeError\u001b[39;00m, \u001b[38;5;167;01mValueError\u001b[39;00m):\n\u001b[32m   1705\u001b[39m     \u001b[38;5;66;03m# e.g. \"1+1j\" or \"foo\"\u001b[39;00m\n\u001b[32m   1706\u001b[39m     \u001b[38;5;28;01mtry\u001b[39;00m:\n\u001b[32m-> \u001b[39m\u001b[32m1707\u001b[39m         x = \u001b[38;5;28;43mcomplex\u001b[39;49m\u001b[43m(\u001b[49m\u001b[43mx\u001b[49m\u001b[43m)\u001b[49m\n\u001b[32m   1708\u001b[39m     \u001b[38;5;28;01mexcept\u001b[39;00m \u001b[38;5;167;01mValueError\u001b[39;00m \u001b[38;5;28;01mas\u001b[39;00m err:\n\u001b[32m   1709\u001b[39m         \u001b[38;5;66;03m# e.g. \"foo\"\u001b[39;00m\n\u001b[32m   1710\u001b[39m         \u001b[38;5;28;01mraise\u001b[39;00m \u001b[38;5;167;01mTypeError\u001b[39;00m(\u001b[33mf\u001b[39m\u001b[33m\"\u001b[39m\u001b[33mCould not convert \u001b[39m\u001b[38;5;132;01m{\u001b[39;00mx\u001b[38;5;132;01m}\u001b[39;00m\u001b[33m to numeric\u001b[39m\u001b[33m\"\u001b[39m) \u001b[38;5;28;01mfrom\u001b[39;00m\u001b[38;5;250m \u001b[39m\u001b[34;01merr\u001b[39;00m\n",
      "\u001b[31mTypeError\u001b[39m: complex() first argument must be a string or a number, not 'list'"
     ]
    }
   ],
   "source": [
    "# todo:\n",
    "import random\n",
    "puntaje = [random.randint(1,10) for i in range(10)] \n",
    "\n",
    "notas={\"Emilio\":puntaje,\"Gimena\":puntaje,\"Lucas\":puntaje,\"Joaquin\":puntaje,\"Nicolas\":puntaje,\"Juan\":puntaje,\"Sofia\":puntaje,\"Valentina\":puntaje,\"Lautaro\":puntaje,\"Maxi\":puntaje}\n",
    "notas=pd.Series(notas)\n",
    "\n",
    "\n",
    "print(notas.mean())\n",
    "print(notas.median())\n",
    "print(notas.std())\n",
    "print(notas.max())\n",
    "\n",
    "\n",
    "aprobados=notas[notas>=6]\n",
    "print(f\"los alumnos que aprueban son: \\n{aprobados}\")\n",
    "\n",
    "notas_ascendente = notas.sort_values(ascending=True)\n",
    "print(f\"\\nNotas ordenadas de manera ascendente:\\n{notas_ascendente}\")\n",
    "notas_descendente = notas.sort_values(ascending=False)\n",
    "print(f\"\\nNotas ordenadas de manera descendente:\\n{notas_descendente}\")"
   ]
  }
 ],
 "metadata": {
  "kernelspec": {
   "display_name": "Python 3",
   "language": "python",
   "name": "python3"
  },
  "language_info": {
   "codemirror_mode": {
    "name": "ipython",
    "version": 3
   },
   "file_extension": ".py",
   "mimetype": "text/x-python",
   "name": "python",
   "nbconvert_exporter": "python",
   "pygments_lexer": "ipython3",
   "version": "3.12.9"
  }
 },
 "nbformat": 4,
 "nbformat_minor": 5
}
