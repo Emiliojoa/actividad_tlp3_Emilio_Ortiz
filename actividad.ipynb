{
 "cells": [
  {
   "cell_type": "markdown",
   "id": "498731c6",
   "metadata": {},
   "source": [
    "# Actividad - Trabajando con Series de Pandas.\n",
    "## Criterios de evaluación.\n",
    "\n",
    "* Se deben utilizar nombres de variables descriptivos y claros (Utilizar la nomeclatura correspondiente para los nombres de variables).\n",
    "* Comentarios claros y concisos que expliquen el propósito de cada sección del código.\n",
    "* Utilizar mensajes de commit **descriptivos**. (Puedes utilizar la extension CONVENTIONAL COMMIT de VS-CODE). \n",
    "* Entrega en tiempo y forma.\n",
    "* Todo el código desarrollado debe ser subido a un repositorio en GitHub (el nombre del repositorio de seguir la siguiente estructura: actividad_tlp3_nombre_apellido).\n",
    "* Para resolver las actividades se debe insertar casillas de codigo entre cada actividad del cuaderno de Jupyter\n",
    "\n",
    "### ¡Importante!\n",
    "**El incumplimiento de los criterios de evaluación restará puntos en la nota final del práctico!**"
   ]
  },
  {
   "cell_type": "markdown",
   "id": "b361a7b6",
   "metadata": {},
   "source": [
    "### **Actividad 1:** \n",
    "\n",
    "Crear Series desde diferentes estructuras.\n",
    "* Crea una Series con los números del 1 al 5\n",
    "* Crea una Series a partir de un diccionario con nombres de países como claves y sus capitales como valores."
   ]
  },
  {
   "cell_type": "code",
   "execution_count": 263,
   "id": "296daae9",
   "metadata": {},
   "outputs": [],
   "source": [
    "import pandas as pd\n",
    "import random"
   ]
  },
  {
   "cell_type": "code",
   "execution_count": 144,
   "id": "26009294",
   "metadata": {},
   "outputs": [
    {
     "name": "stdout",
     "output_type": "stream",
     "text": [
      "0    1\n",
      "1    2\n",
      "2    3\n",
      "3    4\n",
      "4    5\n",
      "dtype: int64\n"
     ]
    },
    {
     "data": {
      "text/plain": [
       "argentina    Buenos Aires\n",
       "brasil           Brasilia\n",
       "chile            Santiago\n",
       "colombia           Bogota\n",
       "paraguay         Asuncion\n",
       "dtype: object"
      ]
     },
     "execution_count": 144,
     "metadata": {},
     "output_type": "execute_result"
    }
   ],
   "source": [
    "num=pd.Series([1,2,3,4,5])\n",
    "print(num)\n",
    "\n",
    "paises_capitales={\"argentina\":\"Buenos Aires\",\n",
    "                \"brasil\":\"Brasilia\",\n",
    "                \"chile\":\"Santiago\",\n",
    "                \"colombia\":\"Bogota\",\n",
    "                \"paraguay\":\"Asuncion\"}\n",
    "\n",
    "new_location=pd.Series(paises_capitales)\n",
    "new_location\n",
    "\n",
    "# todo:"
   ]
  },
  {
   "cell_type": "markdown",
   "id": "0c239195",
   "metadata": {},
   "source": [
    "### **Actividad 2:** \n",
    "Acceso y selección de elementos.\n",
    "* Usa una Series con tareas (que haceres cotidianos) de una semana\n",
    "* Accede a diferentes elementos a elección.\n",
    "* Cambia los valores de los dias pares.\n"
   ]
  },
  {
   "cell_type": "code",
   "execution_count": 145,
   "id": "3611d25a",
   "metadata": {},
   "outputs": [
    {
     "data": {
      "text/plain": [
       "'limpio'"
      ]
     },
     "execution_count": 145,
     "metadata": {},
     "output_type": "execute_result"
    }
   ],
   "source": [
    "rutina={\"Lunes\":\"limpio\",\"Martes\":\"cocino\",\n",
    "        \"Miercoles\":\"estudio\",\n",
    "        \"Jueves\":\"salgo\"\n",
    "        ,\"Viernes\":\"juego pelota\",\n",
    "        \"Sabado\":\"Paso con mi familia\",\n",
    "        \"Domingo\":\"Descanso\"}\n",
    "# todo:\n",
    "rutina=pd.Series(rutina)\n",
    "\n",
    "rutina\n",
    "rutina[\"Lunes\"]## accedo a un elemento de la serie a mi eleccion\n",
    "\n",
    "\n",
    "\n",
    "\n"
   ]
  },
  {
   "cell_type": "code",
   "execution_count": 146,
   "id": "daf5f484",
   "metadata": {},
   "outputs": [
    {
     "data": {
      "text/plain": [
       "Lunes                 limpio\n",
       "Martes       cambie de valor\n",
       "Miercoles            estudio\n",
       "Jueves       cambie de valor\n",
       "Viernes         juego pelota\n",
       "Sabado       cambie de valor\n",
       "Domingo             Descanso\n",
       "dtype: object"
      ]
     },
     "execution_count": 146,
     "metadata": {},
     "output_type": "execute_result"
    }
   ],
   "source": [
    "dias_pares=[\"Martes\",\"Jueves\",\"Sabado\"]\n",
    "\n",
    "for i in dias_pares:\n",
    "    rutina[i]=\"cambie de valor\"## accedo a los elementos de la serie que son pares\n",
    "\n",
    "rutina\n"
   ]
  },
  {
   "cell_type": "markdown",
   "id": "70a24b97",
   "metadata": {},
   "source": [
    "### **Actividad 3:**\n",
    "Operaciones aritméticas. \n",
    "* Realiza las operaciones basicas con 2 series cuales quieran.\n",
    "* Eleva los valores de la primer serie a 3 potencias difetentes."
   ]
  },
  {
   "cell_type": "code",
   "execution_count": 214,
   "id": "a9c8ebc7",
   "metadata": {},
   "outputs": [
    {
     "name": "stdout",
     "output_type": "stream",
     "text": [
      "serie 1 :\n",
      "0    6\n",
      "dtype: int64\n",
      "serie 2 : \n",
      "0    9\n",
      "dtype: int64\n",
      "\n",
      "suma\n",
      "0    15\n",
      "dtype: int64\n",
      "\n",
      "resta\n",
      "0   -3\n",
      "dtype: int64\n",
      "\n",
      "multiplicacion\n",
      "0    54\n",
      "dtype: int64\n",
      "\n",
      "division\n",
      "0    0.666667\n",
      "dtype: float64\n",
      "potencias\n",
      "potencia: \n",
      " 0    36\n",
      "dtype: int64 \n",
      " 0    729\n",
      "dtype: int64 \n",
      " 0    1\n",
      "dtype: int64\n"
     ]
    }
   ],
   "source": [
    "# todo:\n",
    "seri1=[random.randint(1,10) for i in range(1)]\n",
    "seri2=[random.randint(1,10) for i in range(1)]\n",
    "new_serie=pd.Series(seri1) \n",
    "new_serie2=pd.Series(seri2)\n",
    "\n",
    "\n",
    "\n",
    "print(\"serie 1 :\")\n",
    "print(new_serie)\n",
    "print(\"serie 2 : \")\n",
    "print(new_serie2)\n",
    "\n",
    "def ejercicios():\n",
    "    suma=new_serie+new_serie2\n",
    "    print(\"\\nsuma\")\n",
    "    print(suma)\n",
    "    \n",
    "    resta=new_serie-new_serie2\n",
    "    print(\"\\nresta\")\n",
    "    print(resta)\n",
    "    \n",
    "    multiplicacion=new_serie*new_serie2\n",
    "    print(\"\\nmultiplicacion\")\n",
    "    print(multiplicacion)\n",
    "    \n",
    "    division=new_serie/new_serie2\n",
    "    print(\"\\ndivision\")\n",
    "    print(division)\n",
    "    return suma,resta,multiplicacion,division\n",
    "\n",
    "ejercicios()\n",
    "##esteticamente horrible pero cumple la funcion de sumar,restar,multiplicar \n",
    "print(\"potencias\")\n",
    "potencia = new_serie ** 2\n",
    "potencia_2 = new_serie2 ** 3\n",
    "potencia_3 = new_serie2 ** 0\n",
    "print(f\"potencia: \\n {potencia} \\n {potencia_2} \\n {potencia_3}\")"
   ]
  },
  {
   "cell_type": "markdown",
   "id": "b8dac397",
   "metadata": {},
   "source": [
    "### **Actividad 4:** \n",
    "Filtrado con condiciones.\n",
    "* Crea una Series de edades de 10 personas.\n",
    "* Muestra solo a los mayores de 18.\n",
    "* Reemplaza a los menores por \"Menor de edad\"."
   ]
  },
  {
   "cell_type": "code",
   "execution_count": 254,
   "id": "d04fd492",
   "metadata": {},
   "outputs": [
    {
     "name": "stdout",
     "output_type": "stream",
     "text": [
      "mayores de edad:\n",
      "Emilio     19\n",
      "Gimena     20\n",
      "Lucas      21\n",
      "Nicolas    23\n",
      "Maxi       22\n",
      "dtype: int64\n",
      "menores de edad:\n",
      "Joaquin    11\n",
      "Juan       17\n",
      "Sofia      15\n",
      "Lautaro    16\n",
      "dtype: int64\n"
     ]
    }
   ],
   "source": [
    "personas = {\"Emilio\":19, \"Gimena\":20, \"Lucas\":21, \"Joaquin\":11, \"Nicolas\":23, \"Juan\":17, \"Sofia\":15, \"Valentina\":18, \"Lautaro\":16,\"Maxi\":22}\n",
    "personas = pd.Series(personas)\n",
    "\n",
    "mayor_edad = personas[personas > 18]\n",
    "print(f\"mayores de edad:\\n{mayor_edad}\")\n",
    "\n",
    "menor_edad = personas[personas < 18]\n",
    "print(f\"menores de edad:\\n{menor_edad}\")\n",
    "\n",
    "\n",
    "\n"
   ]
  },
  {
   "cell_type": "markdown",
   "id": "8889d0f2",
   "metadata": {},
   "source": [
    "### Actividad 5:\n",
    "Estadísticas básicas.\n",
    "\n",
    "* Crea una Series con las notas de 10 estudiantes.\n",
    "* Calcula la media, mediana, desviación estándar y máximo.\n",
    "* Muestra cuántos estudiantes aprobaron si el mínimo para aprobar es 6.\n",
    "* Ordenar las notas de manera ascendente y descendente. "
   ]
  },
  {
   "cell_type": "code",
   "execution_count": null,
   "id": "bc0ec844",
   "metadata": {},
   "outputs": [
    {
     "ename": "TypeError",
     "evalue": "'>=' not supported between instances of 'list' and 'int'",
     "output_type": "error",
     "traceback": [
      "\u001b[31m---------------------------------------------------------------------------\u001b[39m",
      "\u001b[31mTypeError\u001b[39m                                 Traceback (most recent call last)",
      "\u001b[36mCell\u001b[39m\u001b[36m \u001b[39m\u001b[32mIn[267]\u001b[39m\u001b[32m, line 15\u001b[39m\n\u001b[32m      6\u001b[39m notas=pd.Series(notas)\n\u001b[32m     10\u001b[39m \u001b[38;5;66;03m# notas.mean()\u001b[39;00m\n\u001b[32m     11\u001b[39m \u001b[38;5;66;03m# notas.median()\u001b[39;00m\n\u001b[32m     12\u001b[39m \u001b[38;5;66;03m# notas.std()\u001b[39;00m\n\u001b[32m     13\u001b[39m \u001b[38;5;66;03m# notas.max()\u001b[39;00m\n\u001b[32m---> \u001b[39m\u001b[32m15\u001b[39m aprobados=notas[\u001b[43mnotas\u001b[49m\u001b[43m>\u001b[49m\u001b[43m=\u001b[49m\u001b[32;43m6\u001b[39;49m]\n\u001b[32m     16\u001b[39m \u001b[38;5;28mprint\u001b[39m(\u001b[33mf\u001b[39m\u001b[33m\"\u001b[39m\u001b[33mlos alumnos que aprueban son: \u001b[39m\u001b[38;5;130;01m\\n\u001b[39;00m\u001b[38;5;132;01m{\u001b[39;00maprobados\u001b[38;5;132;01m}\u001b[39;00m\u001b[33m\"\u001b[39m)\n\u001b[32m     18\u001b[39m notas_ascendente = notas.sort_values(ascending=\u001b[38;5;28;01mTrue\u001b[39;00m)\n",
      "\u001b[36mFile \u001b[39m\u001b[32mc:\\Users\\IFP-2025\\Desktop\\pandas\\env\\Lib\\site-packages\\pandas\\core\\ops\\common.py:76\u001b[39m, in \u001b[36m_unpack_zerodim_and_defer.<locals>.new_method\u001b[39m\u001b[34m(self, other)\u001b[39m\n\u001b[32m     72\u001b[39m             \u001b[38;5;28;01mreturn\u001b[39;00m \u001b[38;5;28mNotImplemented\u001b[39m\n\u001b[32m     74\u001b[39m other = item_from_zerodim(other)\n\u001b[32m---> \u001b[39m\u001b[32m76\u001b[39m \u001b[38;5;28;01mreturn\u001b[39;00m \u001b[43mmethod\u001b[49m\u001b[43m(\u001b[49m\u001b[38;5;28;43mself\u001b[39;49m\u001b[43m,\u001b[49m\u001b[43m \u001b[49m\u001b[43mother\u001b[49m\u001b[43m)\u001b[49m\n",
      "\u001b[36mFile \u001b[39m\u001b[32mc:\\Users\\IFP-2025\\Desktop\\pandas\\env\\Lib\\site-packages\\pandas\\core\\arraylike.py:60\u001b[39m, in \u001b[36mOpsMixin.__ge__\u001b[39m\u001b[34m(self, other)\u001b[39m\n\u001b[32m     58\u001b[39m \u001b[38;5;129m@unpack_zerodim_and_defer\u001b[39m(\u001b[33m\"\u001b[39m\u001b[33m__ge__\u001b[39m\u001b[33m\"\u001b[39m)\n\u001b[32m     59\u001b[39m \u001b[38;5;28;01mdef\u001b[39;00m\u001b[38;5;250m \u001b[39m\u001b[34m__ge__\u001b[39m(\u001b[38;5;28mself\u001b[39m, other):\n\u001b[32m---> \u001b[39m\u001b[32m60\u001b[39m     \u001b[38;5;28;01mreturn\u001b[39;00m \u001b[38;5;28;43mself\u001b[39;49m\u001b[43m.\u001b[49m\u001b[43m_cmp_method\u001b[49m\u001b[43m(\u001b[49m\u001b[43mother\u001b[49m\u001b[43m,\u001b[49m\u001b[43m \u001b[49m\u001b[43moperator\u001b[49m\u001b[43m.\u001b[49m\u001b[43mge\u001b[49m\u001b[43m)\u001b[49m\n",
      "\u001b[36mFile \u001b[39m\u001b[32mc:\\Users\\IFP-2025\\Desktop\\pandas\\env\\Lib\\site-packages\\pandas\\core\\series.py:6119\u001b[39m, in \u001b[36mSeries._cmp_method\u001b[39m\u001b[34m(self, other, op)\u001b[39m\n\u001b[32m   6116\u001b[39m lvalues = \u001b[38;5;28mself\u001b[39m._values\n\u001b[32m   6117\u001b[39m rvalues = extract_array(other, extract_numpy=\u001b[38;5;28;01mTrue\u001b[39;00m, extract_range=\u001b[38;5;28;01mTrue\u001b[39;00m)\n\u001b[32m-> \u001b[39m\u001b[32m6119\u001b[39m res_values = \u001b[43mops\u001b[49m\u001b[43m.\u001b[49m\u001b[43mcomparison_op\u001b[49m\u001b[43m(\u001b[49m\u001b[43mlvalues\u001b[49m\u001b[43m,\u001b[49m\u001b[43m \u001b[49m\u001b[43mrvalues\u001b[49m\u001b[43m,\u001b[49m\u001b[43m \u001b[49m\u001b[43mop\u001b[49m\u001b[43m)\u001b[49m\n\u001b[32m   6121\u001b[39m \u001b[38;5;28;01mreturn\u001b[39;00m \u001b[38;5;28mself\u001b[39m._construct_result(res_values, name=res_name)\n",
      "\u001b[36mFile \u001b[39m\u001b[32mc:\\Users\\IFP-2025\\Desktop\\pandas\\env\\Lib\\site-packages\\pandas\\core\\ops\\array_ops.py:344\u001b[39m, in \u001b[36mcomparison_op\u001b[39m\u001b[34m(left, right, op)\u001b[39m\n\u001b[32m    341\u001b[39m     \u001b[38;5;28;01mreturn\u001b[39;00m invalid_comparison(lvalues, rvalues, op)\n\u001b[32m    343\u001b[39m \u001b[38;5;28;01melif\u001b[39;00m lvalues.dtype == \u001b[38;5;28mobject\u001b[39m \u001b[38;5;129;01mor\u001b[39;00m \u001b[38;5;28misinstance\u001b[39m(rvalues, \u001b[38;5;28mstr\u001b[39m):\n\u001b[32m--> \u001b[39m\u001b[32m344\u001b[39m     res_values = \u001b[43mcomp_method_OBJECT_ARRAY\u001b[49m\u001b[43m(\u001b[49m\u001b[43mop\u001b[49m\u001b[43m,\u001b[49m\u001b[43m \u001b[49m\u001b[43mlvalues\u001b[49m\u001b[43m,\u001b[49m\u001b[43m \u001b[49m\u001b[43mrvalues\u001b[49m\u001b[43m)\u001b[49m\n\u001b[32m    346\u001b[39m \u001b[38;5;28;01melse\u001b[39;00m:\n\u001b[32m    347\u001b[39m     res_values = _na_arithmetic_op(lvalues, rvalues, op, is_cmp=\u001b[38;5;28;01mTrue\u001b[39;00m)\n",
      "\u001b[36mFile \u001b[39m\u001b[32mc:\\Users\\IFP-2025\\Desktop\\pandas\\env\\Lib\\site-packages\\pandas\\core\\ops\\array_ops.py:129\u001b[39m, in \u001b[36mcomp_method_OBJECT_ARRAY\u001b[39m\u001b[34m(op, x, y)\u001b[39m\n\u001b[32m    127\u001b[39m     result = libops.vec_compare(x.ravel(), y.ravel(), op)\n\u001b[32m    128\u001b[39m \u001b[38;5;28;01melse\u001b[39;00m:\n\u001b[32m--> \u001b[39m\u001b[32m129\u001b[39m     result = \u001b[43mlibops\u001b[49m\u001b[43m.\u001b[49m\u001b[43mscalar_compare\u001b[49m\u001b[43m(\u001b[49m\u001b[43mx\u001b[49m\u001b[43m.\u001b[49m\u001b[43mravel\u001b[49m\u001b[43m(\u001b[49m\u001b[43m)\u001b[49m\u001b[43m,\u001b[49m\u001b[43m \u001b[49m\u001b[43my\u001b[49m\u001b[43m,\u001b[49m\u001b[43m \u001b[49m\u001b[43mop\u001b[49m\u001b[43m)\u001b[49m\n\u001b[32m    130\u001b[39m \u001b[38;5;28;01mreturn\u001b[39;00m result.reshape(x.shape)\n",
      "\u001b[36mFile \u001b[39m\u001b[32mops.pyx:107\u001b[39m, in \u001b[36mpandas._libs.ops.scalar_compare\u001b[39m\u001b[34m()\u001b[39m\n",
      "\u001b[31mTypeError\u001b[39m: '>=' not supported between instances of 'list' and 'int'"
     ]
    }
   ],
   "source": [
    "# todo:\n",
    "import random\n",
    "puntaje = [random.randint(1,10) for i in range(10)]\n",
    "\n",
    "notas={\"Emilio\":puntaje,\"Gimena\":9,\"Lucas\":10,\"Joaquin\":7,\"Nicolas\":6,\"Juan\":5,\"Sofia\":4,\"Valentina\":3,\"Lautaro\":2,\"Maxi\":1}\n",
    "notas=pd.Series(notas)\n",
    "\n",
    "\n",
    "\n",
    "notas.mean()\n",
    "notas.median()\n",
    "notas.std()\n",
    "notas.max()\n",
    "\n",
    "aprobados=notas[notas>=6]\n",
    "print(f\"los alumnos que aprueban son: \\n{aprobados}\")\n",
    "\n",
    "notas_ascendente = notas.sort_values(ascending=True)\n",
    "print(f\"\\nNotas ordenadas de manera ascendente:\\n{notas_ascendente}\")\n",
    "notas_descendente = notas.sort_values(ascending=False)\n",
    "print(f\"\\nNotas ordenadas de manera descendente:\\n{notas_descendente}\")"
   ]
  }
 ],
 "metadata": {
  "kernelspec": {
   "display_name": "env",
   "language": "python",
   "name": "python3"
  },
  "language_info": {
   "codemirror_mode": {
    "name": "ipython",
    "version": 3
   },
   "file_extension": ".py",
   "mimetype": "text/x-python",
   "name": "python",
   "nbconvert_exporter": "python",
   "pygments_lexer": "ipython3",
   "version": "3.12.9"
  }
 },
 "nbformat": 4,
 "nbformat_minor": 5
}
