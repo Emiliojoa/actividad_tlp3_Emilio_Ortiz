{
 "cells": [
  {
   "cell_type": "markdown",
   "id": "498731c6",
   "metadata": {},
   "source": [
    "# Actividad - Trabajando con Series de Pandas.\n",
    "## Criterios de evaluación.\n",
    "\n",
    "* Se deben utilizar nombres de variables descriptivos y claros (Utilizar la nomeclatura correspondiente para los nombres de variables).\n",
    "* Comentarios claros y concisos que expliquen el propósito de cada sección del código.\n",
    "* Utilizar mensajes de commit **descriptivos**. (Puedes utilizar la extension CONVENTIONAL COMMIT de VS-CODE). \n",
    "* Entrega en tiempo y forma.\n",
    "* Todo el código desarrollado debe ser subido a un repositorio en GitHub (el nombre del repositorio de seguir la siguiente estructura: actividad_tlp3_nombre_apellido).\n",
    "* Para resolver las actividades se debe insertar casillas de codigo entre cada actividad del cuaderno de Jupyter\n",
    "\n",
    "### ¡Importante!\n",
    "**El incumplimiento de los criterios de evaluación restará puntos en la nota final del práctico!**"
   ]
  },
  {
   "cell_type": "markdown",
   "id": "b361a7b6",
   "metadata": {},
   "source": [
    "### **Actividad 1:** \n",
    "\n",
    "Crear Series desde diferentes estructuras.\n",
    "* Crea una Series con los números del 1 al 5\n",
    "* Crea una Series a partir de un diccionario con nombres de países como claves y sus capitales como valores."
   ]
  },
  {
   "cell_type": "code",
   "execution_count": 1,
   "id": "296daae9",
   "metadata": {},
   "outputs": [],
   "source": [
    "import pandas as pd\n",
    "import random"
   ]
  },
  {
   "cell_type": "code",
   "execution_count": null,
   "id": "26009294",
   "metadata": {},
   "outputs": [
    {
     "name": "stdout",
     "output_type": "stream",
     "text": [
      "0    1\n",
      "1    2\n",
      "2    3\n",
      "3    4\n",
      "4    5\n",
      "dtype: int64\n"
     ]
    },
    {
     "data": {
      "text/plain": [
       "Santiago        NaN\n",
       "Buenos Aires    NaN\n",
       "Bogota          NaN\n",
       "Asuncion        NaN\n",
       "Brasilia        NaN\n",
       "dtype: object"
      ]
     },
     "execution_count": 15,
     "metadata": {},
     "output_type": "execute_result"
    }
   ],
   "source": [
    "num=pd.Series([1,2,3,4,5])\n",
    "print(num)\n",
    "\n",
    "paises_capitales={\"argentina\",\n",
    "                \"brasil\",\n",
    "                \"chile\",\n",
    "                \"colombia\",\n",
    "                \"paraguay\"}\n",
    "\n",
    "capitales={\n",
    "    \"Buenos Aires\",\n",
    "    \"Brasilia\",\n",
    "    \"Santiago\",\n",
    "    \"Bogota\",\n",
    "    \"Asuncion\"\n",
    "}\n",
    "\n",
    "new_location=pd.Series(paises_capitales, index=capitales)\n",
    "new_location\n",
    "\n",
    "# todo:"
   ]
  },
  {
   "cell_type": "markdown",
   "id": "0c239195",
   "metadata": {},
   "source": [
    "### **Actividad 2:** \n",
    "Acceso y selección de elementos.\n",
    "* Usa una Series con tareas (que haceres cotidianos) de una semana\n",
    "* Accede a diferentes elementos a elección.\n",
    "* Cambia los valores de los dias pares.\n"
   ]
  },
  {
   "cell_type": "code",
   "execution_count": 3,
   "id": "3611d25a",
   "metadata": {},
   "outputs": [
    {
     "data": {
      "text/plain": [
       "'limpio'"
      ]
     },
     "execution_count": 3,
     "metadata": {},
     "output_type": "execute_result"
    }
   ],
   "source": [
    "rutina={\"Lunes\":\"limpio\",\"Martes\":\"cocino\",\n",
    "        \"Miercoles\":\"estudio\",\n",
    "        \"Jueves\":\"salgo\"\n",
    "        ,\"Viernes\":\"juego pelota\",\n",
    "        \"Sabado\":\"Paso con mi familia\",\n",
    "        \"Domingo\":\"Descanso\"}\n",
    "# todo:\n",
    "rutina=pd.Series(rutina)\n",
    "\n",
    "rutina\n",
    "rutina[\"Lunes\"]## accedo a un elemento de la serie a mi eleccion\n"
   ]
  },
  {
   "cell_type": "markdown",
   "id": "72cfc872",
   "metadata": {},
   "source": [
    "### Dias pares"
   ]
  },
  {
   "cell_type": "code",
   "execution_count": 4,
   "id": "daf5f484",
   "metadata": {},
   "outputs": [
    {
     "data": {
      "text/plain": [
       "Lunes                 limpio\n",
       "Martes       cambie de valor\n",
       "Miercoles            estudio\n",
       "Jueves       cambie de valor\n",
       "Viernes         juego pelota\n",
       "Sabado       cambie de valor\n",
       "Domingo             Descanso\n",
       "dtype: object"
      ]
     },
     "execution_count": 4,
     "metadata": {},
     "output_type": "execute_result"
    }
   ],
   "source": [
    "dias_pares=[\"Martes\",\"Jueves\",\"Sabado\"]\n",
    "\n",
    "for i in dias_pares:\n",
    "    rutina[i]=\"cambie de valor\"## accedo a los elementos de la serie que son pares\n",
    "\n",
    "rutina\n"
   ]
  },
  {
   "cell_type": "markdown",
   "id": "70a24b97",
   "metadata": {},
   "source": [
    "### **Actividad 3:**\n",
    "Operaciones aritméticas. \n",
    "* Realiza las operaciones basicas con 2 series cuales quieran.\n",
    "* Eleva los valores de la primer serie a 3 potencias difetentes."
   ]
  },
  {
   "cell_type": "code",
   "execution_count": 5,
   "id": "a9c8ebc7",
   "metadata": {},
   "outputs": [
    {
     "name": "stdout",
     "output_type": "stream",
     "text": [
      "serie 1 :\n",
      "0    9\n",
      "dtype: int64\n",
      "serie 2 : \n",
      "0    2\n",
      "dtype: int64\n",
      "\n",
      "suma\n",
      "0    11\n",
      "dtype: int64\n",
      "\n",
      "resta\n",
      "0    7\n",
      "dtype: int64\n",
      "\n",
      "multiplicacion\n",
      "0    18\n",
      "dtype: int64\n",
      "\n",
      "division\n",
      "0    4.5\n",
      "dtype: float64\n"
     ]
    },
    {
     "data": {
      "text/plain": [
       "(0    11\n",
       " dtype: int64,\n",
       " 0    7\n",
       " dtype: int64,\n",
       " 0    18\n",
       " dtype: int64,\n",
       " 0    4.5\n",
       " dtype: float64)"
      ]
     },
     "execution_count": 5,
     "metadata": {},
     "output_type": "execute_result"
    }
   ],
   "source": [
    "# todo:\n",
    "seri1=[random.randint(1,10) for i in range(1)]## le agregue solamnete rango uno para poder visualizar mejor\n",
    "seri2=[random.randint(1,10) for i in range(1)]\n",
    "new_serie=pd.Series(seri1) \n",
    "new_serie2=pd.Series(seri2)\n",
    "\n",
    "print(\"serie 1 :\")\n",
    "print(new_serie)\n",
    "print(\"serie 2 : \")\n",
    "print(new_serie2)\n",
    "\n",
    "def ejercicios():\n",
    "    suma=new_serie+new_serie2\n",
    "    print(\"\\nsuma\")\n",
    "    print(suma)\n",
    "    \n",
    "    resta=new_serie-new_serie2\n",
    "    print(\"\\nresta\")\n",
    "    print(resta)\n",
    "    \n",
    "    multiplicacion=new_serie*new_serie2\n",
    "    print(\"\\nmultiplicacion\")\n",
    "    print(multiplicacion)\n",
    "    \n",
    "    division=new_serie/new_serie2\n",
    "    print(\"\\ndivision\")\n",
    "    print(division)\n",
    "    return suma,resta,multiplicacion,division\n",
    "\n",
    "ejercicios()\n",
    "##esteticamente horrible pero cumple la funcion de sumar,restar,multiplicar \n"
   ]
  },
  {
   "cell_type": "markdown",
   "id": "9e820ff1",
   "metadata": {},
   "source": [
    "### Potencias\n"
   ]
  },
  {
   "cell_type": "code",
   "execution_count": 6,
   "id": "efedcd40",
   "metadata": {},
   "outputs": [
    {
     "name": "stdout",
     "output_type": "stream",
     "text": [
      "potencias\n",
      "\n",
      " 0    81\n",
      "dtype: int64 \n",
      " 0    8\n",
      "dtype: int64 \n",
      " 0    1\n",
      "dtype: int64\n"
     ]
    }
   ],
   "source": [
    "print(\"potencias\")\n",
    "potencia = new_serie ** 2\n",
    "potencia_2 = new_serie2 ** 3\n",
    "potencia_3 = new_serie2 ** 0\n",
    "print(f\"\\n {potencia} \\n {potencia_2} \\n {potencia_3}\")"
   ]
  },
  {
   "cell_type": "markdown",
   "id": "b8dac397",
   "metadata": {},
   "source": [
    "### **Actividad 4:** \n",
    "Filtrado con condiciones.\n",
    "* Crea una Series de edades de 10 personas.\n",
    "* Muestra solo a los mayores de 18.\n",
    "* Reemplaza a los menores por \"Menor de edad\"."
   ]
  },
  {
   "cell_type": "code",
   "execution_count": 7,
   "id": "d04fd492",
   "metadata": {},
   "outputs": [
    {
     "name": "stdout",
     "output_type": "stream",
     "text": [
      "mayores de edad:\n",
      "Emilio     19\n",
      "Gimena     20\n",
      "Lucas      21\n",
      "Nicolas    23\n",
      "Maxi       22\n",
      "dtype: int64\n",
      "menores de edad:\n",
      "Joaquin    11\n",
      "Juan       17\n",
      "Sofia      15\n",
      "Lautaro    16\n",
      "dtype: int64\n"
     ]
    }
   ],
   "source": [
    "personas = {\"Emilio\":19, \"Gimena\":20, \"Lucas\":21, \"Joaquin\":11, \"Nicolas\":23, \"Juan\":17, \"Sofia\":15, \"Valentina\":18, \"Lautaro\":16,\"Maxi\":22}\n",
    "personas = pd.Series(personas)\n",
    "\n",
    "mayor_edad = personas[personas > 18]\n",
    "print(f\"mayores de edad:\\n{mayor_edad}\")\n",
    "\n",
    "menor_edad = personas[personas < 18]\n",
    "print(f\"menores de edad:\\n{menor_edad}\")\n"
   ]
  },
  {
   "cell_type": "markdown",
   "id": "8889d0f2",
   "metadata": {},
   "source": [
    "### Actividad 5:\n",
    "Estadísticas básicas.\n",
    "\n",
    "* Crea una Series con las notas de 10 estudiantes.\n",
    "* Calcula la media, mediana, desviación estándar y máximo.\n",
    "* Muestra cuántos estudiantes aprobaron si el mínimo para aprobar es 6.\n",
    "* Ordenar las notas de manera ascendente y descendente. "
   ]
  },
  {
   "cell_type": "code",
   "execution_count": 8,
   "id": "bc0ec844",
   "metadata": {},
   "outputs": [
    {
     "name": "stdout",
     "output_type": "stream",
     "text": [
      "3.8\n",
      "3.5\n",
      "2.780887148615228\n",
      "9\n"
     ]
    }
   ],
   "source": [
    "# todo:\n",
    "notas = {\n",
    "    \"Emilio\": random.randint(1, 10),\n",
    "    \"Gimena\": random.randint(1, 10),\n",
    "    \"Lucas\": random.randint(1, 10),\n",
    "    \"Joaquin\": random.randint(1, 10),\n",
    "    \"Nicolas\": random.randint(1, 10),\n",
    "    \"Juan\": random.randint(1, 10),\n",
    "    \"Sofia\": random.randint(1, 10),\n",
    "    \"Valentina\": random.randint(1, 10),\n",
    "    \"Lautaro\": random.randint(1, 10),\n",
    "    \"Maxi\": random.randint(1, 10),\n",
    "}\n",
    "notas=pd.Series(notas)\n",
    "\n",
    "print(notas.mean())\n",
    "print(notas.median())\n",
    "print(notas.std())\n",
    "print(notas.max())"
   ]
  },
  {
   "cell_type": "markdown",
   "id": "653a6686",
   "metadata": {},
   "source": [
    "###  Aprobados"
   ]
  },
  {
   "cell_type": "code",
   "execution_count": 9,
   "id": "0068211e",
   "metadata": {},
   "outputs": [
    {
     "name": "stdout",
     "output_type": "stream",
     "text": [
      "los alumnos que aprueban son: \n",
      "Gimena     6\n",
      "Lucas      6\n",
      "Joaquin    9\n",
      "dtype: int64\n"
     ]
    }
   ],
   "source": [
    "aprobados=notas[notas>=6]\n",
    "print(f\"los alumnos que aprueban son: \\n{aprobados}\")"
   ]
  },
  {
   "cell_type": "markdown",
   "id": "adca8a9b",
   "metadata": {},
   "source": [
    "### Notas en forma ascendente y descendente "
   ]
  },
  {
   "cell_type": "code",
   "execution_count": 10,
   "id": "d0c821e2",
   "metadata": {},
   "outputs": [
    {
     "name": "stdout",
     "output_type": "stream",
     "text": [
      "\n",
      "Notas ordenadas de manera ascendente:\n",
      "Juan         1\n",
      "Sofia        1\n",
      "Nicolas      1\n",
      "Emilio       2\n",
      "Maxi         2\n",
      "Valentina    5\n",
      "Lautaro      5\n",
      "Gimena       6\n",
      "Lucas        6\n",
      "Joaquin      9\n",
      "dtype: int64\n",
      "\n",
      "Notas ordenadas de manera descendente:\n",
      "Joaquin      9\n",
      "Gimena       6\n",
      "Lucas        6\n",
      "Lautaro      5\n",
      "Valentina    5\n",
      "Emilio       2\n",
      "Maxi         2\n",
      "Nicolas      1\n",
      "Juan         1\n",
      "Sofia        1\n",
      "dtype: int64\n"
     ]
    }
   ],
   "source": [
    "notas_ascendente = notas.sort_values(ascending=True)\n",
    "print(f\"\\nNotas ordenadas de manera ascendente:\\n{notas_ascendente}\")\n",
    "notas_descendente = notas.sort_values(ascending=False)\n",
    "print(f\"\\nNotas ordenadas de manera descendente:\\n{notas_descendente}\")"
   ]
  }
 ],
 "metadata": {
  "kernelspec": {
   "display_name": "Python 3",
   "language": "python",
   "name": "python3"
  },
  "language_info": {
   "codemirror_mode": {
    "name": "ipython",
    "version": 3
   },
   "file_extension": ".py",
   "mimetype": "text/x-python",
   "name": "python",
   "nbconvert_exporter": "python",
   "pygments_lexer": "ipython3",
   "version": "3.12.9"
  }
 },
 "nbformat": 4,
 "nbformat_minor": 5
}
